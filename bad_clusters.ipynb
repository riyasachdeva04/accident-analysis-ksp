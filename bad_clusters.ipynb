{
  "nbformat": 4,
  "nbformat_minor": 0,
  "metadata": {
    "colab": {
      "provenance": []
    },
    "kernelspec": {
      "name": "python3",
      "display_name": "Python 3"
    },
    "language_info": {
      "name": "python"
    }
  },
  "cells": [
    {
      "cell_type": "code",
      "execution_count": null,
      "metadata": {
        "colab": {
          "base_uri": "https://localhost:8080/"
        },
        "id": "_rPWYlIaideh",
        "outputId": "c2321e12-b0d7-444d-a4b7-62647b7d924f"
      },
      "outputs": [
        {
          "output_type": "stream",
          "name": "stdout",
          "text": [
            "Drive already mounted at /content/drive; to attempt to forcibly remount, call drive.mount(\"/content/drive\", force_remount=True).\n"
          ]
        }
      ],
      "source": [
        "# Mount Google Drive\n",
        "from google.colab import drive\n",
        "drive.mount('/content/drive')\n",
        "\n",
        "# Import necessary libraries\n",
        "import pandas as pd\n",
        "\n",
        "# Path to your CSV file in Google Drive\n",
        "file_path_AccidentReports = \"/content/drive/My Drive/output.csv\""
      ]
    },
    {
      "cell_type": "code",
      "source": [
        "X = pd.read_csv(file_path_AccidentReports)"
      ],
      "metadata": {
        "id": "PrK-fSbblcPX"
      },
      "execution_count": null,
      "outputs": []
    },
    {
      "cell_type": "code",
      "source": [
        "X = X[X['Year'] >= 2020]"
      ],
      "metadata": {
        "id": "9BGHr_IPlhvm"
      },
      "execution_count": null,
      "outputs": []
    },
    {
      "cell_type": "code",
      "source": [
        "#DBSCAN\n",
        "from sklearn.cluster import DBSCAN\n",
        "\n",
        "import matplotlib.pyplot as plt\n",
        "%matplotlib inline"
      ],
      "metadata": {
        "id": "gSEoE3vflhst"
      },
      "execution_count": null,
      "outputs": []
    },
    {
      "cell_type": "code",
      "source": [
        "y = X"
      ],
      "metadata": {
        "id": "r9eZlgWClhrN"
      },
      "execution_count": null,
      "outputs": []
    },
    {
      "cell_type": "code",
      "source": [
        "from sklearn.model_selection import train_test_split\n",
        "\n",
        "X_train1, X_test1, y_train1, y_test1 = train_test_split(X, y, test_size=0.3, random_state=42)"
      ],
      "metadata": {
        "id": "2FkURmOllhp3"
      },
      "execution_count": null,
      "outputs": []
    },
    {
      "cell_type": "code",
      "source": [
        "from sklearn.preprocessing import LabelEncoder\n",
        "le_Junction_Control = LabelEncoder()\n",
        "X['Junction_Control'] = le_Junction_Control.fit_transform(X['Junction_Control'])\n",
        "\n",
        "le_Accident_Spot = LabelEncoder()\n",
        "X['Accident_Spot'] = le_Accident_Spot.fit_transform(X['Accident_Spot'])\n",
        "\n",
        "le_Road_Type = LabelEncoder()\n",
        "X['Road_Type'] = le_Road_Type.fit_transform(X['Road_Type'])\n",
        "\n",
        "le_Severity = LabelEncoder()\n",
        "X['Severity'] = le_Severity.fit_transform(X['Severity'])\n",
        "\n",
        "le_Road_Character = LabelEncoder()\n",
        "X['Road_Character'] = le_Road_Character.fit_transform(X['Severity'])\n",
        "\n",
        "le_Weather = LabelEncoder()\n",
        "X['Weather'] = le_Weather.fit_transform(X['Weather'])\n",
        "\n",
        "le_Road_Condition = LabelEncoder()\n",
        "X['Road_Condition'] = le_Road_Condition.fit_transform(X['Road_Condition'])"
      ],
      "metadata": {
        "id": "J5hqcYsClhoS"
      },
      "execution_count": null,
      "outputs": []
    },
    {
      "cell_type": "code",
      "source": [
        "X = X.drop(['Latitude', 'Longitude', 'age', 'PersonType', 'Sex', 'Surface_Type', 'Year'], axis=1)"
      ],
      "metadata": {
        "id": "5k4OGkdFl8pe"
      },
      "execution_count": null,
      "outputs": []
    },
    {
      "cell_type": "code",
      "source": [
        "X = X.sample(10000)\n"
      ],
      "metadata": {
        "id": "tkTXt7kjl8rK"
      },
      "execution_count": null,
      "outputs": []
    },
    {
      "cell_type": "code",
      "source": [
        "# #feature scaling(Standard Scaling)\n",
        "from sklearn.preprocessing import StandardScaler\n",
        "scaler = StandardScaler()\n",
        "X_scaled = scaler.fit_transform(X)"
      ],
      "metadata": {
        "id": "1p__AaKpl8sb"
      },
      "execution_count": null,
      "outputs": []
    },
    {
      "cell_type": "code",
      "source": [
        "from sklearn.decomposition import PCA\n",
        "pca = PCA(n_components=2)\n",
        "pca_scaled = pca.fit_transform(X_scaled)"
      ],
      "metadata": {
        "id": "BapduXMEl8tx"
      },
      "execution_count": null,
      "outputs": []
    },
    {
      "cell_type": "code",
      "source": [
        "import matplotlib.pyplot as plt\n",
        "plt.scatter(pca_scaled[:, 0],pca_scaled[:,1])"
      ],
      "metadata": {
        "colab": {
          "base_uri": "https://localhost:8080/",
          "height": 448
        },
        "id": "k2UuFbedl8u5",
        "outputId": "eb3f4a98-0997-4607-f8ba-448f7d62b394"
      },
      "execution_count": null,
      "outputs": [
        {
          "output_type": "execute_result",
          "data": {
            "text/plain": [
              "<matplotlib.collections.PathCollection at 0x7b4f4a2cfcd0>"
            ]
          },
          "metadata": {},
          "execution_count": 135
        },
        {
          "output_type": "display_data",
          "data": {
            "text/plain": [
              "<Figure size 640x480 with 1 Axes>"
            ],
            "image/png": "[encoded data removed]"
          },
          "metadata": {}
        }
      ]
    },
    {
      "cell_type": "code",
      "source": [
        "## Agglomerative Clustering\n",
        "## To construct a dendogram\n",
        "import scipy.cluster.hierarchy as sc\n",
        "##plot the dendogram\n",
        "plt.figure(figsize=(20,7))\n",
        "plt.title(\"Dendograms\")\n",
        "## create dendogram\n",
        "sc.dendrogram(sc.linkage (pca_scaled, method='ward'))\n",
        "plt.title('Dendogram')\n",
        "plt.xlabel('Sample Index')\n",
        "plt.ylabel('Eucledian Distance')"
      ],
      "metadata": {
        "id": "UX3s8jSJl8wY"
      },
      "execution_count": null,
      "outputs": []
    },
    {
      "cell_type": "code",
      "source": [
        "# Using fcluster to assign cluster labels based on a threshold\n",
        "import scipy.cluster.hierarchy as sch\n",
        "\n",
        "threshold = 100\n",
        "labels = sch.fcluster(sch.linkage(X_scaled, method='ward'), threshold, criterion='distance')"
      ],
      "metadata": {
        "id": "SY2f3Po2qhW1"
      },
      "execution_count": null,
      "outputs": []
    },
    {
      "cell_type": "code",
      "source": [
        "from sklearn.cluster import AgglomerativeClustering\n",
        "cluster = AgglomerativeClustering(n_clusters=4,affinity='euclidean', linkage='single')\n",
        "cluster.fit(pca_scaled)"
      ],
      "metadata": {
        "colab": {
          "base_uri": "https://localhost:8080/",
          "height": 130
        },
        "id": "Wl7S3OD7l8xj",
        "outputId": "03d27824-f30b-406d-a208-e5b8be8f77f5"
      },
      "execution_count": null,
      "outputs": [
        {
          "output_type": "stream",
          "name": "stderr",
          "text": [
            "/usr/local/lib/python3.10/dist-packages/sklearn/cluster/_agglomerative.py:983: FutureWarning: Attribute `affinity` was deprecated in version 1.2 and will be removed in 1.4. Use `metric` instead\n",
            "  warnings.warn(\n"
          ]
        },
        {
          "output_type": "execute_result",
          "data": {
            "text/plain": [
              "AgglomerativeClustering(affinity='euclidean', linkage='single', n_clusters=4)"
            ],
            "text/html": [
              "<style>#sk-container-id-11 {color: black;background-color: white;}#sk-container-id-11 pre{padding: 0;}#sk-container-id-11 div.sk-toggleable {background-color: white;}#sk-container-id-11 label.sk-toggleable__label {cursor: pointer;display: block;width: 100%;margin-bottom: 0;padding: 0.3em;box-sizing: border-box;text-align: center;}#sk-container-id-11 label.sk-toggleable__label-arrow:before {content: \"▸\";float: left;margin-right: 0.25em;color: #696969;}#sk-container-id-11 label.sk-toggleable__label-arrow:hover:before {color: black;}#sk-container-id-11 div.sk-estimator:hover label.sk-toggleable__label-arrow:before {color: black;}#sk-container-id-11 div.sk-toggleable__content {max-height: 0;max-width: 0;overflow: hidden;text-align: left;background-color: #f0f8ff;}#sk-container-id-11 div.sk-toggleable__content pre {margin: 0.2em;color: black;border-radius: 0.25em;background-color: #f0f8ff;}#sk-container-id-11 input.sk-toggleable__control:checked~div.sk-toggleable__content {max-height: 200px;max-width: 100%;overflow: auto;}#sk-container-id-11 input.sk-toggleable__control:checked~label.sk-toggleable__label-arrow:before {content: \"▾\";}#sk-container-id-11 div.sk-estimator input.sk-toggleable__control:checked~label.sk-toggleable__label {background-color: #d4ebff;}#sk-container-id-11 div.sk-label input.sk-toggleable__control:checked~label.sk-toggleable__label {background-color: #d4ebff;}#sk-container-id-11 input.sk-hidden--visually {border: 0;clip: rect(1px 1px 1px 1px);clip: rect(1px, 1px, 1px, 1px);height: 1px;margin: -1px;overflow: hidden;padding: 0;position: absolute;width: 1px;}#sk-container-id-11 div.sk-estimator {font-family: monospace;background-color: #f0f8ff;border: 1px dotted black;border-radius: 0.25em;box-sizing: border-box;margin-bottom: 0.5em;}#sk-container-id-11 div.sk-estimator:hover {background-color: #d4ebff;}#sk-container-id-11 div.sk-parallel-item::after {content: \"\";width: 100%;border-bottom: 1px solid gray;flex-grow: 1;}#sk-container-id-11 div.sk-label:hover label.sk-toggleable__label {background-color: #d4ebff;}#sk-container-id-11 div.sk-serial::before {content: \"\";position: absolute;border-left: 1px solid gray;box-sizing: border-box;top: 0;bottom: 0;left: 50%;z-index: 0;}#sk-container-id-11 div.sk-serial {display: flex;flex-direction: column;align-items: center;background-color: white;padding-right: 0.2em;padding-left: 0.2em;position: relative;}#sk-container-id-11 div.sk-item {position: relative;z-index: 1;}#sk-container-id-11 div.sk-parallel {display: flex;align-items: stretch;justify-content: center;background-color: white;position: relative;}#sk-container-id-11 div.sk-item::before, #sk-container-id-11 div.sk-parallel-item::before {content: \"\";position: absolute;border-left: 1px solid gray;box-sizing: border-box;top: 0;bottom: 0;left: 50%;z-index: -1;}#sk-container-id-11 div.sk-parallel-item {display: flex;flex-direction: column;z-index: 1;position: relative;background-color: white;}#sk-container-id-11 div.sk-parallel-item:first-child::after {align-self: flex-end;width: 50%;}#sk-container-id-11 div.sk-parallel-item:last-child::after {align-self: flex-start;width: 50%;}#sk-container-id-11 div.sk-parallel-item:only-child::after {width: 0;}#sk-container-id-11 div.sk-dashed-wrapped {border: 1px dashed gray;margin: 0 0.4em 0.5em 0.4em;box-sizing: border-box;padding-bottom: 0.4em;background-color: white;}#sk-container-id-11 div.sk-label label {font-family: monospace;font-weight: bold;display: inline-block;line-height: 1.2em;}#sk-container-id-11 div.sk-label-container {text-align: center;}#sk-container-id-11 div.sk-container {/* jupyter's `normalize.less` sets `[hidden] { display: none; }` but bootstrap.min.css set `[hidden] { display: none !important; }` so we also need the `!important` here to be able to override the default hidden behavior on the sphinx rendered scikit-learn.org. See: https://github.com/scikit-learn/scikit-learn/issues/21755 */display: inline-block !important;position: relative;}#sk-container-id-11 div.sk-text-repr-fallback {display: none;}</style><div id=\"sk-container-id-11\" class=\"sk-top-container\"><div class=\"sk-text-repr-fallback\"><pre>AgglomerativeClustering(affinity=&#x27;euclidean&#x27;, linkage=&#x27;single&#x27;, n_clusters=4)</pre><b>In a Jupyter environment, please rerun this cell to show the HTML representation or trust the notebook. <br />On GitHub, the HTML representation is unable to render, please try loading this page with nbviewer.org.</b></div><div class=\"sk-container\" hidden><div class=\"sk-item\"><div class=\"sk-estimator sk-toggleable\"><input class=\"sk-toggleable__control sk-hidden--visually\" id=\"sk-estimator-id-11\" type=\"checkbox\" checked><label for=\"sk-estimator-id-11\" class=\"sk-toggleable__label sk-toggleable__label-arrow\">AgglomerativeClustering</label><div class=\"sk-toggleable__content\"><pre>AgglomerativeClustering(affinity=&#x27;euclidean&#x27;, linkage=&#x27;single&#x27;, n_clusters=4)</pre></div></div></div></div></div>"
            ]
          },
          "metadata": {},
          "execution_count": 147
        }
      ]
    },
    {
      "cell_type": "code",
      "source": [
        "plt.scatter(pca_scaled[:,0],pca_scaled[:,1],c=cluster.labels_)"
      ],
      "metadata": {
        "colab": {
          "base_uri": "https://localhost:8080/",
          "height": 448
        },
        "id": "zq2d3r8_p7al",
        "outputId": "dc561cee-7715-4463-8852-d8c3d48635d2"
      },
      "execution_count": null,
      "outputs": [
        {
          "output_type": "execute_result",
          "data": {
            "text/plain": [
              "<matplotlib.collections.PathCollection at 0x7b4f53050250>"
            ]
          },
          "metadata": {},
          "execution_count": 148
        },
        {
          "output_type": "display_data",
          "data": {
            "text/plain": [
              "<Figure size 640x480 with 1 Axes>"
            ],
            "image/png": "[encoded data removed]"
          },
          "metadata": {}
        }
      ]
    },
    {
      "cell_type": "code",
      "source": [
        "# from sklearn.metrics import silhouette_score\n",
        "# silhouette_coefficients = []\n",
        "# for k in range(2, 100):\n",
        "#   agglo = AgglomerativeClustering(n_clusters=k, affinity='euclidean', linkage='single')\n",
        "#   agglo.fit(X_scaled)\n",
        "#   score=silhouette_score (X_scaled, agglo.labels_)\n",
        "#   silhouette_coefficients.append(score)\n",
        "\n"
      ],
      "metadata": {
        "id": "buzoVQ1ws-M-"
      },
      "execution_count": null,
      "outputs": []
    },
    {
      "cell_type": "code",
      "source": [
        "# ## plotting silhouette score\n",
        "# plt.plot(range(2,100), silhouette_coefficients)\n",
        "# plt.xticks(range(2,100))\n",
        "# plt.xlabel(\"Number of Cluters\")\n",
        "# plt.ylabel(\"Silhoutte Coeffecient\")\n",
        "# plt.show()"
      ],
      "metadata": {
        "id": "eQQUJ-25s-Rd"
      },
      "execution_count": null,
      "outputs": []
    },
    {
      "cell_type": "code",
      "source": [
        "import numpy as np\n",
        "pca_transformed_data = pca.transform(X_scaled)\n",
        "cluster_labels = cluster.labels_\n",
        "\n",
        "cluster_centroids_pca = []\n",
        "cluster_centroids_original = []\n",
        "cluster_centroids_unscaled = []\n",
        "\n",
        "for label in np.unique(cluster_labels):\n",
        "    cluster_points = pca_transformed_data[cluster_labels == label]\n",
        "    cluster_centroid = np.mean(cluster_points, axis=0)\n",
        "    cluster_centroids_pca.append(cluster_centroid)\n",
        "\n",
        "    cluster_centroid_original = pca.inverse_transform(cluster_centroid.reshape(1, -1))\n",
        "    cluster_centroids_original.append(cluster_centroid_original[0])\n",
        "\n",
        "    cluster_centroid_unscaled = scaler.inverse_transform(cluster_centroid_original.reshape(1, -1))\n",
        "    cluster_centroids_unscaled.append(cluster_centroid_unscaled[0])"
      ],
      "metadata": {
        "id": "Fp5WRlW3s-Tl"
      },
      "execution_count": null,
      "outputs": []
    },
    {
      "cell_type": "code",
      "source": [
        "cluster_centroids_unscaled"
      ],
      "metadata": {
        "colab": {
          "base_uri": "https://localhost:8080/"
        },
        "id": "CeRAq_YVs-U8",
        "outputId": "ade7f939-681e-4304-86e2-b5e8be79276e"
      },
      "execution_count": null,
      "outputs": [
        {
          "output_type": "execute_result",
          "data": {
            "text/plain": [
              "[array([4.19661119e+00, 3.40090022e-03, 4.63603961e-01, 3.40090022e-03,\n",
              "        9.03596229e+00, 1.20864460e+00, 1.44038528e-01]),\n",
              " array([4.09815732, 2.0004485 , 0.46076957, 2.0004485 , 9.54377314,\n",
              "        1.23289075, 0.22549324]),\n",
              " array([4.16526704, 1.00014824, 0.48216273, 1.00014824, 9.41056502,\n",
              "        1.25240966, 0.21486305]),\n",
              " array([4.01158911, 2.99807466, 0.41739192, 2.99807466, 9.5429312 ,\n",
              "        1.17848172, 0.20280135])]"
            ]
          },
          "metadata": {},
          "execution_count": 141
        }
      ]
    },
    {
      "cell_type": "code",
      "source": [
        "import numpy as np\n",
        "encoders = [le_Accident_Spot, le_Severity, le_Junction_Control, le_Road_Character, le_Road_Type, le_Road_Condition, le_Weather]\n",
        "\n",
        "decoded_data = []\n",
        "for encoded_values in cluster_centroids_unscaled:\n",
        "    decoded_values = []\n",
        "    for i, encoder in enumerate(encoders):\n",
        "        if(encoder == le_Road_Character):\n",
        "          val = int(np.round(encoded_values[i])/3)\n",
        "        else:\n",
        "          val = int(np.round(encoded_values[i]))\n",
        "          decoded = encoder.inverse_transform([val])\n",
        "          decoded_values.append(decoded[0])\n",
        "    decoded_data.append(decoded_values)\n",
        "\n",
        "print(decoded_data)\n"
      ],
      "metadata": {
        "colab": {
          "base_uri": "https://localhost:8080/"
        },
        "id": "_KlxrmB_S6Mm",
        "outputId": "7417b8c3-8dc2-4e9c-fe5a-209f6050bef5"
      },
      "execution_count": null,
      "outputs": [
        {
          "output_type": "stream",
          "name": "stdout",
          "text": [
            "[['Junction', 'Damage Only', 'Controlled', 'One way', 'Engineering Defect of Road', 'Clear'], ['Junction', 'Grievous Injury', 'Controlled', 'Residential Street', 'Engineering Defect of Road', 'Clear'], ['Junction', 'Fatal', 'Controlled', 'One way', 'Engineering Defect of Road', 'Clear'], ['Junction', 'Simple Injury', 'Controlled', 'Residential Street', 'Engineering Defect of Road', 'Clear']]\n"
          ]
        }
      ]
    },
    {
      "cell_type": "code",
      "source": [
        "X"
      ],
      "metadata": {
        "colab": {
          "base_uri": "https://localhost:8080/",
          "height": 635
        },
        "id": "Yr-cPIlY6zFx",
        "outputId": "ff850ec2-0efe-40df-e8a8-d0130753a95f"
      },
      "execution_count": null,
      "outputs": [
        {
          "output_type": "execute_result",
          "data": {
            "text/plain": [
              "        Year Accident_Spot         Severity Junction_Control  \\\n",
              "0       2016    Bottleneck  Grievous Injury       Controlled   \n",
              "1       2016    Bottleneck  Grievous Injury       Controlled   \n",
              "2       2016        Bridge            Fatal       Controlled   \n",
              "3       2016        Bridge            Fatal       Controlled   \n",
              "4       2016        Bridge            Fatal     Uncontrolled   \n",
              "...      ...           ...              ...              ...   \n",
              "484822  2023      Junction  Grievous Injury     Uncontrolled   \n",
              "484823  2023      Junction  Grievous Injury     Uncontrolled   \n",
              "484824  2023      Junction            Fatal     Uncontrolled   \n",
              "484825  2023      Junction  Grievous Injury     Uncontrolled   \n",
              "484826  2023        Circle  Grievous Injury     Uncontrolled   \n",
              "\n",
              "           Road_Character            Road_Type  Surface_Type  \\\n",
              "0                   Curve        State Highway  Bitumen(Tar)   \n",
              "1                   Curve        State Highway  Bitumen(Tar)   \n",
              "2       Straight and flat        State Highway  Bitumen(Tar)   \n",
              "3                   Curve        State Highway  Bitumen(Tar)   \n",
              "4       Straight and flat        State Highway  Bitumen(Tar)   \n",
              "...                   ...                  ...           ...   \n",
              "484822              Curve  Minor District Road  Bitumen(Tar)   \n",
              "484823              Curve  Minor District Road  Bitumen(Tar)   \n",
              "484824  Straight and flat                   NH  Bitumen(Tar)   \n",
              "484825              Curve                   NH  Bitumen(Tar)   \n",
              "484826  Straight and flat                   NH  Bitumen(Tar)   \n",
              "\n",
              "                      Road_Condition Weather  Latitude  Longitude   age  \\\n",
              "0       Construction Work / Material   Clear  16.18673   75.69614  60.0   \n",
              "1                          Pot holed   Clear  16.18673   75.69614  42.0   \n",
              "2                          Pot holed    Rain  16.18673   75.69614  21.0   \n",
              "3                          Pot holed    Rain  16.18673   75.69614  23.0   \n",
              "4                          Pot holed    Rain  16.18673   75.69614  30.0   \n",
              "...                              ...     ...       ...        ...   ...   \n",
              "484822    Engineering Defect of Road   Clear  16.73000   76.94000  18.0   \n",
              "484823  Construction Work / Material   Clear  16.73000   76.94000  18.0   \n",
              "484824                     Pot holed   Clear  16.73000   76.94000  35.0   \n",
              "484825  Construction Work / Material   Clear  16.73000   76.94000  70.0   \n",
              "484826  Construction Work / Material   Clear  16.73000   76.94000  28.0   \n",
              "\n",
              "           Sex PersonType  \n",
              "0       FEMALE    Injured  \n",
              "1         MALE    Injured  \n",
              "2         MALE    Injured  \n",
              "3         MALE    Injured  \n",
              "4         MALE    Injured  \n",
              "...        ...        ...  \n",
              "484822    MALE    Injured  \n",
              "484823    MALE    Injured  \n",
              "484824    MALE   Deceased  \n",
              "484825    MALE    Injured  \n",
              "484826    MALE    Injured  \n",
              "\n",
              "[484827 rows x 14 columns]"
            ],
            "text/html": [
              "\n",
              "  <div id=\"df-2b2300f9-c697-4e03-9621-06674e8b78ed\" class=\"colab-df-container\">\n",
              "    <div>\n",
              "<style scoped>\n",
              "    .dataframe tbody tr th:only-of-type {\n",
              "        vertical-align: middle;\n",
              "    }\n",
              "\n",
              "    .dataframe tbody tr th {\n",
              "        vertical-align: top;\n",
              "    }\n",
              "\n",
              "    .dataframe thead th {\n",
              "        text-align: right;\n",
              "    }\n",
              "</style>\n",
              "<table border=\"1\" class=\"dataframe\">\n",
              "  <thead>\n",
              "    <tr style=\"text-align: right;\">\n",
              "      <th></th>\n",
              "      <th>Year</th>\n",
              "      <th>Accident_Spot</th>\n",
              "      <th>Severity</th>\n",
              "      <th>Junction_Control</th>\n",
              "      <th>Road_Character</th>\n",
              "      <th>Road_Type</th>\n",
              "      <th>Surface_Type</th>\n",
              "      <th>Road_Condition</th>\n",
              "      <th>Weather</th>\n",
              "      <th>Latitude</th>\n",
              "      <th>Longitude</th>\n",
              "      <th>age</th>\n",
              "      <th>Sex</th>\n",
              "      <th>PersonType</th>\n",
              "    </tr>\n",
              "  </thead>\n",
              "  <tbody>\n",
              "    <tr>\n",
              "      <th>0</th>\n",
              "      <td>2016</td>\n",
              "      <td>Bottleneck</td>\n",
              "      <td>Grievous Injury</td>\n",
              "      <td>Controlled</td>\n",
              "      <td>Curve</td>\n",
              "      <td>State Highway</td>\n",
              "      <td>Bitumen(Tar)</td>\n",
              "      <td>Construction Work / Material</td>\n",
              "      <td>Clear</td>\n",
              "      <td>16.18673</td>\n",
              "      <td>75.69614</td>\n",
              "      <td>60.0</td>\n",
              "      <td>FEMALE</td>\n",
              "      <td>Injured</td>\n",
              "    </tr>\n",
              "    <tr>\n",
              "      <th>1</th>\n",
              "      <td>2016</td>\n",
              "      <td>Bottleneck</td>\n",
              "      <td>Grievous Injury</td>\n",
              "      <td>Controlled</td>\n",
              "      <td>Curve</td>\n",
              "      <td>State Highway</td>\n",
              "      <td>Bitumen(Tar)</td>\n",
              "      <td>Pot holed</td>\n",
              "      <td>Clear</td>\n",
              "      <td>16.18673</td>\n",
              "      <td>75.69614</td>\n",
              "      <td>42.0</td>\n",
              "      <td>MALE</td>\n",
              "      <td>Injured</td>\n",
              "    </tr>\n",
              "    <tr>\n",
              "      <th>2</th>\n",
              "      <td>2016</td>\n",
              "      <td>Bridge</td>\n",
              "      <td>Fatal</td>\n",
              "      <td>Controlled</td>\n",
              "      <td>Straight and flat</td>\n",
              "      <td>State Highway</td>\n",
              "      <td>Bitumen(Tar)</td>\n",
              "      <td>Pot holed</td>\n",
              "      <td>Rain</td>\n",
              "      <td>16.18673</td>\n",
              "      <td>75.69614</td>\n",
              "      <td>21.0</td>\n",
              "      <td>MALE</td>\n",
              "      <td>Injured</td>\n",
              "    </tr>\n",
              "    <tr>\n",
              "      <th>3</th>\n",
              "      <td>2016</td>\n",
              "      <td>Bridge</td>\n",
              "      <td>Fatal</td>\n",
              "      <td>Controlled</td>\n",
              "      <td>Curve</td>\n",
              "      <td>State Highway</td>\n",
              "      <td>Bitumen(Tar)</td>\n",
              "      <td>Pot holed</td>\n",
              "      <td>Rain</td>\n",
              "      <td>16.18673</td>\n",
              "      <td>75.69614</td>\n",
              "      <td>23.0</td>\n",
              "      <td>MALE</td>\n",
              "      <td>Injured</td>\n",
              "    </tr>\n",
              "    <tr>\n",
              "      <th>4</th>\n",
              "      <td>2016</td>\n",
              "      <td>Bridge</td>\n",
              "      <td>Fatal</td>\n",
              "      <td>Uncontrolled</td>\n",
              "      <td>Straight and flat</td>\n",
              "      <td>State Highway</td>\n",
              "      <td>Bitumen(Tar)</td>\n",
              "      <td>Pot holed</td>\n",
              "      <td>Rain</td>\n",
              "      <td>16.18673</td>\n",
              "      <td>75.69614</td>\n",
              "      <td>30.0</td>\n",
              "      <td>MALE</td>\n",
              "      <td>Injured</td>\n",
              "    </tr>\n",
              "    <tr>\n",
              "      <th>...</th>\n",
              "      <td>...</td>\n",
              "      <td>...</td>\n",
              "      <td>...</td>\n",
              "      <td>...</td>\n",
              "      <td>...</td>\n",
              "      <td>...</td>\n",
              "      <td>...</td>\n",
              "      <td>...</td>\n",
              "      <td>...</td>\n",
              "      <td>...</td>\n",
              "      <td>...</td>\n",
              "      <td>...</td>\n",
              "      <td>...</td>\n",
              "      <td>...</td>\n",
              "    </tr>\n",
              "    <tr>\n",
              "      <th>484822</th>\n",
              "      <td>2023</td>\n",
              "      <td>Junction</td>\n",
              "      <td>Grievous Injury</td>\n",
              "      <td>Uncontrolled</td>\n",
              "      <td>Curve</td>\n",
              "      <td>Minor District Road</td>\n",
              "      <td>Bitumen(Tar)</td>\n",
              "      <td>Engineering Defect of Road</td>\n",
              "      <td>Clear</td>\n",
              "      <td>16.73000</td>\n",
              "      <td>76.94000</td>\n",
              "      <td>18.0</td>\n",
              "      <td>MALE</td>\n",
              "      <td>Injured</td>\n",
              "    </tr>\n",
              "    <tr>\n",
              "      <th>484823</th>\n",
              "      <td>2023</td>\n",
              "      <td>Junction</td>\n",
              "      <td>Grievous Injury</td>\n",
              "      <td>Uncontrolled</td>\n",
              "      <td>Curve</td>\n",
              "      <td>Minor District Road</td>\n",
              "      <td>Bitumen(Tar)</td>\n",
              "      <td>Construction Work / Material</td>\n",
              "      <td>Clear</td>\n",
              "      <td>16.73000</td>\n",
              "      <td>76.94000</td>\n",
              "      <td>18.0</td>\n",
              "      <td>MALE</td>\n",
              "      <td>Injured</td>\n",
              "    </tr>\n",
              "    <tr>\n",
              "      <th>484824</th>\n",
              "      <td>2023</td>\n",
              "      <td>Junction</td>\n",
              "      <td>Fatal</td>\n",
              "      <td>Uncontrolled</td>\n",
              "      <td>Straight and flat</td>\n",
              "      <td>NH</td>\n",
              "      <td>Bitumen(Tar)</td>\n",
              "      <td>Pot holed</td>\n",
              "      <td>Clear</td>\n",
              "      <td>16.73000</td>\n",
              "      <td>76.94000</td>\n",
              "      <td>35.0</td>\n",
              "      <td>MALE</td>\n",
              "      <td>Deceased</td>\n",
              "    </tr>\n",
              "    <tr>\n",
              "      <th>484825</th>\n",
              "      <td>2023</td>\n",
              "      <td>Junction</td>\n",
              "      <td>Grievous Injury</td>\n",
              "      <td>Uncontrolled</td>\n",
              "      <td>Curve</td>\n",
              "      <td>NH</td>\n",
              "      <td>Bitumen(Tar)</td>\n",
              "      <td>Construction Work / Material</td>\n",
              "      <td>Clear</td>\n",
              "      <td>16.73000</td>\n",
              "      <td>76.94000</td>\n",
              "      <td>70.0</td>\n",
              "      <td>MALE</td>\n",
              "      <td>Injured</td>\n",
              "    </tr>\n",
              "    <tr>\n",
              "      <th>484826</th>\n",
              "      <td>2023</td>\n",
              "      <td>Circle</td>\n",
              "      <td>Grievous Injury</td>\n",
              "      <td>Uncontrolled</td>\n",
              "      <td>Straight and flat</td>\n",
              "      <td>NH</td>\n",
              "      <td>Bitumen(Tar)</td>\n",
              "      <td>Construction Work / Material</td>\n",
              "      <td>Clear</td>\n",
              "      <td>16.73000</td>\n",
              "      <td>76.94000</td>\n",
              "      <td>28.0</td>\n",
              "      <td>MALE</td>\n",
              "      <td>Injured</td>\n",
              "    </tr>\n",
              "  </tbody>\n",
              "</table>\n",
              "<p>484827 rows × 14 columns</p>\n",
              "</div>\n",
              "    <div class=\"colab-df-buttons\">\n",
              "\n",
              "  <div class=\"colab-df-container\">\n",
              "    <button class=\"colab-df-convert\" onclick=\"convertToInteractive('df-2b2300f9-c697-4e03-9621-06674e8b78ed')\"\n",
              "            title=\"Convert this dataframe to an interactive table.\"\n",
              "            style=\"display:none;\">\n",
              "\n",
              "  <svg xmlns=\"http://www.w3.org/2000/svg\" height=\"24px\" viewBox=\"0 -960 960 960\">\n",
              "    <path d=\"M120-120v-720h720v720H120Zm60-500h600v-160H180v160Zm220 220h160v-160H400v160Zm0 220h160v-160H400v160ZM180-400h160v-160H180v160Zm440 0h160v-160H620v160ZM180-180h160v-160H180v160Zm440 0h160v-160H620v160Z\"/>\n",
              "  </svg>\n",
              "    </button>\n",
              "\n",
              "  <style>\n",
              "    .colab-df-container {\n",
              "      display:flex;\n",
              "      gap: 12px;\n",
              "    }\n",
              "\n",
              "    .colab-df-convert {\n",
              "      background-color: #E8F0FE;\n",
              "      border: none;\n",
              "      border-radius: 50%;\n",
              "      cursor: pointer;\n",
              "      display: none;\n",
              "      fill: #1967D2;\n",
              "      height: 32px;\n",
              "      padding: 0 0 0 0;\n",
              "      width: 32px;\n",
              "    }\n",
              "\n",
              "    .colab-df-convert:hover {\n",
              "      background-color: #E2EBFA;\n",
              "      box-shadow: 0px 1px 2px rgba(60, 64, 67, 0.3), 0px 1px 3px 1px rgba(60, 64, 67, 0.15);\n",
              "      fill: #174EA6;\n",
              "    }\n",
              "\n",
              "    .colab-df-buttons div {\n",
              "      margin-bottom: 4px;\n",
              "    }\n",
              "\n",
              "    [theme=dark] .colab-df-convert {\n",
              "      background-color: #3B4455;\n",
              "      fill: #D2E3FC;\n",
              "    }\n",
              "\n",
              "    [theme=dark] .colab-df-convert:hover {\n",
              "      background-color: #434B5C;\n",
              "      box-shadow: 0px 1px 3px 1px rgba(0, 0, 0, 0.15);\n",
              "      filter: drop-shadow(0px 1px 2px rgba(0, 0, 0, 0.3));\n",
              "      fill: #FFFFFF;\n",
              "    }\n",
              "  </style>\n",
              "\n",
              "    <script>\n",
              "      const buttonEl =\n",
              "        document.querySelector('#df-2b2300f9-c697-4e03-9621-06674e8b78ed button.colab-df-convert');\n",
              "      buttonEl.style.display =\n",
              "        google.colab.kernel.accessAllowed ? 'block' : 'none';\n",
              "\n",
              "      async function convertToInteractive(key) {\n",
              "        const element = document.querySelector('#df-2b2300f9-c697-4e03-9621-06674e8b78ed');\n",
              "        const dataTable =\n",
              "          await google.colab.kernel.invokeFunction('convertToInteractive',\n",
              "                                                    [key], {});\n",
              "        if (!dataTable) return;\n",
              "\n",
              "        const docLinkHtml = 'Like what you see? Visit the ' +\n",
              "          '<a target=\"_blank\" href=https://colab.research.google.com/notebooks/data_table.ipynb>data table notebook</a>'\n",
              "          + ' to learn more about interactive tables.';\n",
              "        element.innerHTML = '';\n",
              "        dataTable['output_type'] = 'display_data';\n",
              "        await google.colab.output.renderOutput(dataTable, element);\n",
              "        const docLink = document.createElement('div');\n",
              "        docLink.innerHTML = docLinkHtml;\n",
              "        element.appendChild(docLink);\n",
              "      }\n",
              "    </script>\n",
              "  </div>\n",
              "\n",
              "\n",
              "<div id=\"df-08297f1b-85f9-46a5-853f-0923ad8ecc57\">\n",
              "  <button class=\"colab-df-quickchart\" onclick=\"quickchart('df-08297f1b-85f9-46a5-853f-0923ad8ecc57')\"\n",
              "            title=\"Suggest charts\"\n",
              "            style=\"display:none;\">\n",
              "\n",
              "<svg xmlns=\"http://www.w3.org/2000/svg\" height=\"24px\"viewBox=\"0 0 24 24\"\n",
              "     width=\"24px\">\n",
              "    <g>\n",
              "        <path d=\"M19 3H5c-1.1 0-2 .9-2 2v14c0 1.1.9 2 2 2h14c1.1 0 2-.9 2-2V5c0-1.1-.9-2-2-2zM9 17H7v-7h2v7zm4 0h-2V7h2v10zm4 0h-2v-4h2v4z\"/>\n",
              "    </g>\n",
              "</svg>\n",
              "  </button>\n",
              "\n",
              "<style>\n",
              "  .colab-df-quickchart {\n",
              "      --bg-color: #E8F0FE;\n",
              "      --fill-color: #1967D2;\n",
              "      --hover-bg-color: #E2EBFA;\n",
              "      --hover-fill-color: #174EA6;\n",
              "      --disabled-fill-color: #AAA;\n",
              "      --disabled-bg-color: #DDD;\n",
              "  }\n",
              "\n",
              "  [theme=dark] .colab-df-quickchart {\n",
              "      --bg-color: #3B4455;\n",
              "      --fill-color: #D2E3FC;\n",
              "      --hover-bg-color: #434B5C;\n",
              "      --hover-fill-color: #FFFFFF;\n",
              "      --disabled-bg-color: #3B4455;\n",
              "      --disabled-fill-color: #666;\n",
              "  }\n",
              "\n",
              "  .colab-df-quickchart {\n",
              "    background-color: var(--bg-color);\n",
              "    border: none;\n",
              "    border-radius: 50%;\n",
              "    cursor: pointer;\n",
              "    display: none;\n",
              "    fill: var(--fill-color);\n",
              "    height: 32px;\n",
              "    padding: 0;\n",
              "    width: 32px;\n",
              "  }\n",
              "\n",
              "  .colab-df-quickchart:hover {\n",
              "    background-color: var(--hover-bg-color);\n",
              "    box-shadow: 0 1px 2px rgba(60, 64, 67, 0.3), 0 1px 3px 1px rgba(60, 64, 67, 0.15);\n",
              "    fill: var(--button-hover-fill-color);\n",
              "  }\n",
              "\n",
              "  .colab-df-quickchart-complete:disabled,\n",
              "  .colab-df-quickchart-complete:disabled:hover {\n",
              "    background-color: var(--disabled-bg-color);\n",
              "    fill: var(--disabled-fill-color);\n",
              "    box-shadow: none;\n",
              "  }\n",
              "\n",
              "  .colab-df-spinner {\n",
              "    border: 2px solid var(--fill-color);\n",
              "    border-color: transparent;\n",
              "    border-bottom-color: var(--fill-color);\n",
              "    animation:\n",
              "      spin 1s steps(1) infinite;\n",
              "  }\n",
              "\n",
              "  @keyframes spin {\n",
              "    0% {\n",
              "      border-color: transparent;\n",
              "      border-bottom-color: var(--fill-color);\n",
              "      border-left-color: var(--fill-color);\n",
              "    }\n",
              "    20% {\n",
              "      border-color: transparent;\n",
              "      border-left-color: var(--fill-color);\n",
              "      border-top-color: var(--fill-color);\n",
              "    }\n",
              "    30% {\n",
              "      border-color: transparent;\n",
              "      border-left-color: var(--fill-color);\n",
              "      border-top-color: var(--fill-color);\n",
              "      border-right-color: var(--fill-color);\n",
              "    }\n",
              "    40% {\n",
              "      border-color: transparent;\n",
              "      border-right-color: var(--fill-color);\n",
              "      border-top-color: var(--fill-color);\n",
              "    }\n",
              "    60% {\n",
              "      border-color: transparent;\n",
              "      border-right-color: var(--fill-color);\n",
              "    }\n",
              "    80% {\n",
              "      border-color: transparent;\n",
              "      border-right-color: var(--fill-color);\n",
              "      border-bottom-color: var(--fill-color);\n",
              "    }\n",
              "    90% {\n",
              "      border-color: transparent;\n",
              "      border-bottom-color: var(--fill-color);\n",
              "    }\n",
              "  }\n",
              "</style>\n",
              "\n",
              "  <script>\n",
              "    async function quickchart(key) {\n",
              "      const quickchartButtonEl =\n",
              "        document.querySelector('#' + key + ' button');\n",
              "      quickchartButtonEl.disabled = true;  // To prevent multiple clicks.\n",
              "      quickchartButtonEl.classList.add('colab-df-spinner');\n",
              "      try {\n",
              "        const charts = await google.colab.kernel.invokeFunction(\n",
              "            'suggestCharts', [key], {});\n",
              "      } catch (error) {\n",
              "        console.error('Error during call to suggestCharts:', error);\n",
              "      }\n",
              "      quickchartButtonEl.classList.remove('colab-df-spinner');\n",
              "      quickchartButtonEl.classList.add('colab-df-quickchart-complete');\n",
              "    }\n",
              "    (() => {\n",
              "      let quickchartButtonEl =\n",
              "        document.querySelector('#df-08297f1b-85f9-46a5-853f-0923ad8ecc57 button');\n",
              "      quickchartButtonEl.style.display =\n",
              "        google.colab.kernel.accessAllowed ? 'block' : 'none';\n",
              "    })();\n",
              "  </script>\n",
              "</div>\n",
              "\n",
              "  <div id=\"id_8fa83454-542a-4be0-82bf-9642a51de2da\">\n",
              "    <style>\n",
              "      .colab-df-generate {\n",
              "        background-color: #E8F0FE;\n",
              "        border: none;\n",
              "        border-radius: 50%;\n",
              "        cursor: pointer;\n",
              "        display: none;\n",
              "        fill: #1967D2;\n",
              "        height: 32px;\n",
              "        padding: 0 0 0 0;\n",
              "        width: 32px;\n",
              "      }\n",
              "\n",
              "      .colab-df-generate:hover {\n",
              "        background-color: #E2EBFA;\n",
              "        box-shadow: 0px 1px 2px rgba(60, 64, 67, 0.3), 0px 1px 3px 1px rgba(60, 64, 67, 0.15);\n",
              "        fill: #174EA6;\n",
              "      }\n",
              "\n",
              "      [theme=dark] .colab-df-generate {\n",
              "        background-color: #3B4455;\n",
              "        fill: #D2E3FC;\n",
              "      }\n",
              "\n",
              "      [theme=dark] .colab-df-generate:hover {\n",
              "        background-color: #434B5C;\n",
              "        box-shadow: 0px 1px 3px 1px rgba(0, 0, 0, 0.15);\n",
              "        filter: drop-shadow(0px 1px 2px rgba(0, 0, 0, 0.3));\n",
              "        fill: #FFFFFF;\n",
              "      }\n",
              "    </style>\n",
              "    <button class=\"colab-df-generate\" onclick=\"generateWithVariable('X')\"\n",
              "            title=\"Generate code using this dataframe.\"\n",
              "            style=\"display:none;\">\n",
              "\n",
              "  <svg xmlns=\"http://www.w3.org/2000/svg\" height=\"24px\"viewBox=\"0 0 24 24\"\n",
              "       width=\"24px\">\n",
              "    <path d=\"M7,19H8.4L18.45,9,17,7.55,7,17.6ZM5,21V16.75L18.45,3.32a2,2,0,0,1,2.83,0l1.4,1.43a1.91,1.91,0,0,1,.58,1.4,1.91,1.91,0,0,1-.58,1.4L9.25,21ZM18.45,9,17,7.55Zm-12,3A5.31,5.31,0,0,0,4.9,8.1,5.31,5.31,0,0,0,1,6.5,5.31,5.31,0,0,0,4.9,4.9,5.31,5.31,0,0,0,6.5,1,5.31,5.31,0,0,0,8.1,4.9,5.31,5.31,0,0,0,12,6.5,5.46,5.46,0,0,0,6.5,12Z\"/>\n",
              "  </svg>\n",
              "    </button>\n",
              "    <script>\n",
              "      (() => {\n",
              "      const buttonEl =\n",
              "        document.querySelector('#id_8fa83454-542a-4be0-82bf-9642a51de2da button.colab-df-generate');\n",
              "      buttonEl.style.display =\n",
              "        google.colab.kernel.accessAllowed ? 'block' : 'none';\n",
              "\n",
              "      buttonEl.onclick = () => {\n",
              "        google.colab.notebook.generateWithVariable('X');\n",
              "      }\n",
              "      })();\n",
              "    </script>\n",
              "  </div>\n",
              "\n",
              "    </div>\n",
              "  </div>\n"
            ],
            "application/vnd.google.colaboratory.intrinsic+json": {
              "type": "dataframe",
              "variable_name": "X"
            }
          },
          "metadata": {},
          "execution_count": 150
        }
      ]
    },
    {
      "cell_type": "code",
      "source": [],
      "metadata": {
        "id": "FsnzfF-X-8AF"
      },
      "execution_count": null,
      "outputs": []
    },
    {
      "cell_type": "code",
      "source": [],
      "metadata": {
        "id": "be99uEQI-8FQ"
      },
      "execution_count": null,
      "outputs": []
    },
    {
      "cell_type": "code",
      "source": [],
      "metadata": {
        "id": "sn1iu_j8-8IR"
      },
      "execution_count": null,
      "outputs": []
    },
    {
      "cell_type": "code",
      "source": [],
      "metadata": {
        "id": "DniToxTR-8Ll"
      },
      "execution_count": null,
      "outputs": []
    }
  ]
}