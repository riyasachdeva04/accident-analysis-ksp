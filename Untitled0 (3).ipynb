{
  "nbformat": 4,
  "nbformat_minor": 0,
  "metadata": {
    "colab": {
      "provenance": []
    },
    "kernelspec": {
      "name": "python3",
      "display_name": "Python 3"
    },
    "language_info": {
      "name": "python"
    }
  },
  "cells": [
    {
      "cell_type": "code",
      "source": [
        "# Mount Google Drive\n",
        "from google.colab import drive\n",
        "drive.mount('/content/drive')\n",
        "\n",
        "# Import necessary libraries\n",
        "import pandas as pd"
      ],
      "metadata": {
        "colab": {
          "base_uri": "https://localhost:8080/"
        },
        "id": "yD_ilWU31zz5",
        "outputId": "936743b5-ca9c-471c-f511-96ba7c770d4c"
      },
      "execution_count": 18,
      "outputs": [
        {
          "output_type": "stream",
          "name": "stdout",
          "text": [
            "Drive already mounted at /content/drive; to attempt to forcibly remount, call drive.mount(\"/content/drive\", force_remount=True).\n"
          ]
        }
      ]
    },
    {
      "cell_type": "code",
      "execution_count": 19,
      "metadata": {
        "id": "WXGKhYis1sA9"
      },
      "outputs": [],
      "source": [
        "file_path_accidentdata = \"/content/drive/My Drive/accident_data.csv\"\n",
        "\n",
        "# Read the CSV file into a DataFrame\n",
        "accidentdata = pd.read_csv(file_path_accidentdata)"
      ]
    },
    {
      "cell_type": "code",
      "source": [
        "accidentdata.columns"
      ],
      "metadata": {
        "colab": {
          "base_uri": "https://localhost:8080/"
        },
        "id": "1PQwXC4bWoMu",
        "outputId": "95565b52-b6ca-45da-c3c0-85aca48cc060"
      },
      "execution_count": 14,
      "outputs": [
        {
          "output_type": "execute_result",
          "data": {
            "text/plain": [
              "Index(['Unnamed: 0', 'Year', 'Accident_Spot', 'Main_Cause', 'Collision_Type',\n",
              "       'Junction_Control', 'Road_Character', 'Road_Type', 'Surface_Type',\n",
              "       'Weather', 'Latitude', 'Longitude', 'age', 'Sex', 'PersonType',\n",
              "       'Vehicle_Involvement', 'severity_score'],\n",
              "      dtype='object')"
            ]
          },
          "metadata": {},
          "execution_count": 14
        }
      ]
    },
    {
      "cell_type": "code",
      "source": [
        "accidentdata['Noofvehicle_involved'].value_counts()"
      ],
      "metadata": {
        "colab": {
          "base_uri": "https://localhost:8080/"
        },
        "id": "VbAcPPYv4mWa",
        "outputId": "ef546c69-7392-4abb-c21c-dc8f40a40363"
      },
      "execution_count": 21,
      "outputs": [
        {
          "output_type": "execute_result",
          "data": {
            "text/plain": [
              "2     271777\n",
              "1     201308\n",
              "3      12571\n",
              "4       1526\n",
              "5        341\n",
              "6        147\n",
              "7         77\n",
              "8         33\n",
              "12        15\n",
              "22         8\n",
              "10         8\n",
              "9          7\n",
              "11         4\n",
              "21         2\n",
              "65         2\n",
              "52         2\n",
              "46         2\n",
              "49         1\n",
              "20         1\n",
              "75         1\n",
              "36         1\n",
              "Name: Noofvehicle_involved, dtype: int64"
            ]
          },
          "metadata": {},
          "execution_count": 21
        }
      ]
    },
    {
      "cell_type": "code",
      "source": [
        "import pickle\n",
        "\n",
        "with open('/content/final_scores_dict.pickle', 'rb') as f:\n",
        "  severity_scores = pickle.load(f)\n"
      ],
      "metadata": {
        "id": "bVs_bVqK7-l6"
      },
      "execution_count": 154,
      "outputs": []
    },
    {
      "cell_type": "code",
      "source": [
        "accidentdata.columns"
      ],
      "metadata": {
        "colab": {
          "base_uri": "https://localhost:8080/"
        },
        "id": "5Tj0blEj1uVa",
        "outputId": "9320e759-906c-4f03-ff85-1a4fa24d7b13"
      },
      "execution_count": 157,
      "outputs": [
        {
          "output_type": "execute_result",
          "data": {
            "text/plain": [
              "Index(['DISTRICTNAME', 'UNITNAME', 'Year', 'Accident_Classification',\n",
              "       'Accident_Spot', 'Accident_Location', 'Accident_SubLocation',\n",
              "       'Accident_SpotB', 'Main_Cause', 'Hit_Run', 'Collision_Type',\n",
              "       'Junction_Control', 'Road_Character', 'Road_Type', 'Surface_Type',\n",
              "       'Surface_Condition', 'Road_Condition', 'Weather', 'Lane_Type',\n",
              "       'Road_Markings', 'Spot_Conditions', 'Side_Walk', 'Collision_TypeB',\n",
              "       'Accident_Road', 'Landmark_first', 'Latitude', 'Longitude', 'Month',\n",
              "       'age', 'Sex', 'PersonType', 'Injury_Nature', 'Vehicle_Involvement',\n",
              "       'severity_score'],\n",
              "      dtype='object')"
            ]
          },
          "metadata": {},
          "execution_count": 157
        }
      ]
    },
    {
      "cell_type": "code",
      "source": [
        "accidentdata.severity_score.value_counts()"
      ],
      "metadata": {
        "colab": {
          "base_uri": "https://localhost:8080/"
        },
        "id": "izudbQpfEcD7",
        "outputId": "109d939b-0103-48e2-dc4b-1c333bc7dde4"
      },
      "execution_count": 155,
      "outputs": [
        {
          "output_type": "execute_result",
          "data": {
            "text/plain": [
              "73.103323    2910\n",
              "87.065949    2511\n",
              "70.235532    1894\n",
              "81.357263    1589\n",
              "67.812370    1560\n",
              "             ... \n",
              "55.588235       1\n",
              "70.537634       1\n",
              "88.484848       1\n",
              "83.137255       1\n",
              "86.767372       1\n",
              "Name: severity_score, Length: 685, dtype: int64"
            ]
          },
          "metadata": {},
          "execution_count": 155
        }
      ]
    },
    {
      "cell_type": "code",
      "source": [
        "accidentdata.drop('Landmark_first', axis=1, inplace=True)"
      ],
      "metadata": {
        "id": "UELmAxuvEAMO"
      },
      "execution_count": 211,
      "outputs": []
    },
    {
      "cell_type": "code",
      "source": [
        "accidentdata.isna().sum()"
      ],
      "metadata": {
        "colab": {
          "base_uri": "https://localhost:8080/"
        },
        "id": "JfQnbP9SGwa4",
        "outputId": "02502525-0fa1-44c8-9966-5928539105cc"
      },
      "execution_count": 173,
      "outputs": [
        {
          "output_type": "execute_result",
          "data": {
            "text/plain": [
              "DISTRICTNAME                  0\n",
              "UNITNAME                      0\n",
              "Year                          0\n",
              "Accident_Classification       0\n",
              "Accident_Spot                 0\n",
              "Accident_Location             0\n",
              "Accident_SubLocation          0\n",
              "Main_Cause                    0\n",
              "Hit_Run                       0\n",
              "Collision_Type                0\n",
              "Junction_Control              0\n",
              "Road_Character                0\n",
              "Road_Type                     0\n",
              "Surface_Type                  0\n",
              "Surface_Condition             0\n",
              "Road_Condition                0\n",
              "Weather                       0\n",
              "Accident_Road               203\n",
              "Landmark_first              270\n",
              "Latitude                      0\n",
              "Longitude                     0\n",
              "Month                      6746\n",
              "age                        6746\n",
              "Sex                        6762\n",
              "PersonType                 6746\n",
              "Vehicle_Involvement           0\n",
              "severity_score                0\n",
              "dtype: int64"
            ]
          },
          "metadata": {},
          "execution_count": 173
        }
      ]
    },
    {
      "cell_type": "code",
      "source": [
        "accidentdata.drop('Accident_SpotB', axis=1, inplace=True)"
      ],
      "metadata": {
        "id": "7St_hz3YHChj"
      },
      "execution_count": 172,
      "outputs": []
    },
    {
      "cell_type": "code",
      "source": [
        "accidentdata.Collision_Type.value_counts()"
      ],
      "metadata": {
        "colab": {
          "base_uri": "https://localhost:8080/"
        },
        "id": "1xAL_GQPKEX_",
        "outputId": "69c55859-5399-4962-a78e-5b158867718b"
      },
      "execution_count": 195,
      "outputs": [
        {
          "output_type": "execute_result",
          "data": {
            "text/plain": [
              "Vehicle to Vehicle            45609\n",
              "Not Applicable                27038\n",
              "Others                        26594\n",
              "Hit pedestrian                13057\n",
              "Head on                        7138\n",
              "Skidding or Self accident      4324\n",
              "Hit and Run                    4023\n",
              "Rear end                       3977\n",
              "Hit bicyclist                  2500\n",
              "Overturning                    1384\n",
              "Side swipe                     1273\n",
              "Drowned                        1238\n",
              "Hit animal                     1170\n",
              "Hit fixed object                758\n",
              "Right Turn Collision            735\n",
              "Side impact or Right angle      494\n",
              "Hit parked vehicle              483\n",
              "Run Off Road                    314\n",
              "Hit puchcart                    161\n",
              "Hit pedal cyclist               107\n",
              "Name: Collision_Type, dtype: int64"
            ]
          },
          "metadata": {},
          "execution_count": 195
        }
      ]
    },
    {
      "cell_type": "code",
      "source": [
        "import numpy as np\n",
        "# Loop through each column in the DataFrame\n",
        "for column in accidentdata.columns:\n",
        "    # Calculate the count of each unique value in the column\n",
        "    value_counts = accidentdata[column].value_counts()\n",
        "\n",
        "    # Check if 'Not Applicable' exists in the unique values\n",
        "    if 'No influence on accident' in value_counts.index:\n",
        "        # Get the count of 'Not Applicable' occurrences\n",
        "        na_count = value_counts['No influence on accident']\n",
        "\n",
        "        # Calculate the total count of other values (excluding 'Not Applicable')\n",
        "        total_count = sum(value_counts) - na_count\n",
        "\n",
        "        # Calculate the distribution ratio for other values\n",
        "        distribution_ratio = value_counts.drop('No influence on accident') / total_count\n",
        "\n",
        "        # Update 'Not Applicable' values with other options based on their count\n",
        "        other_options = distribution_ratio.index\n",
        "        weights = distribution_ratio.values\n",
        "        new_values = pd.Series(np.random.choice(other_options, size=na_count, p=weights), index=accidentdata[accidentdata[column] == 'No influence on accident'].index)\n",
        "        accidentdata.loc[new_values.index, column] = new_values\n"
      ],
      "metadata": {
        "id": "a6VANSdjL-yy"
      },
      "execution_count": 128,
      "outputs": []
    },
    {
      "cell_type": "code",
      "source": [
        "accidentdata.columns"
      ],
      "metadata": {
        "colab": {
          "base_uri": "https://localhost:8080/"
        },
        "id": "5j_T3rLWL8GC",
        "outputId": "fa3190b3-541f-4a0d-8537-668af051f675"
      },
      "execution_count": 213,
      "outputs": [
        {
          "output_type": "execute_result",
          "data": {
            "text/plain": [
              "Index(['DISTRICTNAME', 'UNITNAME', 'Year', 'Accident_Spot',\n",
              "       'Accident_Location', 'Accident_SubLocation', 'Main_Cause', 'Hit_Run',\n",
              "       'Collision_Type', 'Junction_Control', 'Road_Character', 'Road_Type',\n",
              "       'Surface_Type', 'Surface_Condition', 'Road_Condition', 'Weather',\n",
              "       'Accident_Road', 'Latitude', 'Longitude', 'Month', 'age', 'Sex',\n",
              "       'PersonType', 'Vehicle_Involvement', 'severity_score'],\n",
              "      dtype='object')"
            ]
          },
          "metadata": {},
          "execution_count": 213
        }
      ]
    },
    {
      "cell_type": "code",
      "source": [
        "accidentdata.age.value_counts()"
      ],
      "metadata": {
        "colab": {
          "base_uri": "https://localhost:8080/"
        },
        "id": "EC39MOSpMP5k",
        "outputId": "642b954b-dba8-40d1-fe9b-70ef2d1862a6"
      },
      "execution_count": 225,
      "outputs": [
        {
          "output_type": "execute_result",
          "data": {
            "text/plain": [
              "35.0     4931\n",
              "30.0     4875\n",
              "45.0     4605\n",
              "40.0     4340\n",
              "25.0     4259\n",
              "         ... \n",
              "89.0        4\n",
              "95.0        3\n",
              "100.0       3\n",
              "96.0        2\n",
              "105.0       1\n",
              "Name: age, Length: 95, dtype: int64"
            ]
          },
          "metadata": {},
          "execution_count": 225
        }
      ]
    },
    {
      "cell_type": "code",
      "source": [
        "# Assuming accidentdata is your DataFrame\n",
        "\n",
        "# Loop through each column in the DataFrame\n",
        "for column in accidentdata.columns:\n",
        "    # Print the value counts for the current column\n",
        "    print(f\"Value counts for column '{column}':\")\n",
        "    print(accidentdata[column].value_counts())\n",
        "    print()\n"
      ],
      "metadata": {
        "colab": {
          "base_uri": "https://localhost:8080/"
        },
        "id": "0fj5WCg8OB6p",
        "outputId": "a4eb0aab-7bdf-4c5b-c30e-d5b33523a7cf"
      },
      "execution_count": 226,
      "outputs": [
        {
          "output_type": "stream",
          "name": "stdout",
          "text": [
            "Value counts for column 'DISTRICTNAME':\n",
            "Chitradurga              11335\n",
            "Tumakuru                  6696\n",
            "Bengaluru City            6466\n",
            "Udupi                     6345\n",
            "Bengaluru Dist            5850\n",
            "Uttara Kannada            5444\n",
            "Shivamogga                5373\n",
            "Hassan                    4896\n",
            "Ramanagara                4809\n",
            "Mandya                    4714\n",
            "Dakshina Kannada          3615\n",
            "Davanagere                3565\n",
            "Mysuru Dist               3367\n",
            "Belagavi Dist             3335\n",
            "Chikkamagaluru            3112\n",
            "Chamarajanagar            2757\n",
            "Bagalkot                  2653\n",
            "Vijayapur                 2623\n",
            "Mangaluru City            2526\n",
            "Bidar                     2442\n",
            "Mysuru City               2387\n",
            "Haveri                    2120\n",
            "Raichur                   2061\n",
            "Chickballapura            1763\n",
            "Vijayanagara              1602\n",
            "Hubballi Dharwad City     1546\n",
            "Belagavi City             1486\n",
            "Kalaburagi                1459\n",
            "Kodagu                    1346\n",
            "Dharwad                   1282\n",
            "Kolar                     1226\n",
            "Ballari                   1154\n",
            "Koppal                     817\n",
            "Yadgir                     765\n",
            "Kalaburagi City            459\n",
            "Gadag                      402\n",
            "K.G.F                      317\n",
            "Name: DISTRICTNAME, dtype: int64\n",
            "\n",
            "Value counts for column 'UNITNAME':\n",
            "Nelamangala Traffic Police Station    2618\n",
            "Hiriyur Rural Police Station          1634\n",
            "Kundapura Traffic Police Station      1540\n",
            "Holalkere Police Station              1355\n",
            "Puttur Traffic Police Station         1217\n",
            "                                      ... \n",
            "Jamakhandi Town Police Station           1\n",
            "Kaginele Police Station                  1\n",
            "Koppal Traffic Police Station            1\n",
            "Mallanduru Police Station                1\n",
            "Santemaralli Police Station              1\n",
            "Name: UNITNAME, Length: 675, dtype: int64\n",
            "\n",
            "Value counts for column 'Year':\n",
            "2019    15922\n",
            "2016    15330\n",
            "2017    14889\n",
            "2018    14793\n",
            "2022    14076\n",
            "2023    13221\n",
            "2020    13175\n",
            "2021    12709\n",
            "Name: Year, dtype: int64\n",
            "\n",
            "Value counts for column 'Accident_Spot':\n",
            "Narrow road                   45167\n",
            "Curves                        20349\n",
            "Cross roads                   17522\n",
            "Junction                      10363\n",
            "Circle                         7140\n",
            "Bridge                         2676\n",
            "Road hump or Rumble strips     2450\n",
            "Bottleneck                     2405\n",
            "Offset                         2396\n",
            "T Junction                     1302\n",
            "Culvert                         646\n",
            "More than four arms             536\n",
            "Y Junction                      433\n",
            "Railway crossing                330\n",
            "Round about or Circle           233\n",
            "Staggered junction              167\n",
            "Name: Accident_Spot, dtype: int64\n",
            "\n",
            "Value counts for column 'Accident_Location':\n",
            "Rural Areas            73158\n",
            "City/Town              34930\n",
            "Villages settlement     6027\n",
            "Name: Accident_Location, dtype: int64\n",
            "\n",
            "Value counts for column 'Accident_SubLocation':\n",
            "Open area                         57462\n",
            "Near Bus stop                     11210\n",
            "Near or inside a village          10718\n",
            "Residential area                   8843\n",
            "Near School or College             4509\n",
            "Near Petrol Pump                   4471\n",
            "Near office complex                3945\n",
            "Near a religious place             2907\n",
            "Narrow bridge or culverts          2327\n",
            "Near Hospital                      2214\n",
            "Near a factory industrial area     2129\n",
            "In bazaar                          1619\n",
            "At pedestrian Crossing              974\n",
            "Near a recreation place/cinema      426\n",
            "Affected by encroachments           361\n",
            "Name: Accident_SubLocation, dtype: int64\n",
            "\n",
            "Value counts for column 'Main_Cause':\n",
            "Human Error                110524\n",
            "Vehicle Defect               2965\n",
            "Road Environment Defect       626\n",
            "Name: Main_Cause, dtype: int64\n",
            "\n",
            "Value counts for column 'Hit_Run':\n",
            "No     96701\n",
            "Yes    17414\n",
            "Name: Hit_Run, dtype: int64\n",
            "\n",
            "Value counts for column 'Collision_Type':\n",
            "Vehicle to Vehicle            49329\n",
            "Others                        17634\n",
            "Hit pedestrian                13955\n",
            "Head on                        7920\n",
            "Skidding or Self accident      4744\n",
            "Rear end                       4509\n",
            "Hit and Run                    4370\n",
            "Hit bicyclist                  2719\n",
            "Overturning                    1530\n",
            "Drowned                        1365\n",
            "Side swipe                     1348\n",
            "Hit animal                     1246\n",
            "Hit fixed object                860\n",
            "Right Turn Collision            831\n",
            "Side impact or Right angle      572\n",
            "Hit parked vehicle              553\n",
            "Run Off Road                    334\n",
            "Hit puchcart                    177\n",
            "Hit pedal cyclist               119\n",
            "Name: Collision_Type, dtype: int64\n",
            "\n",
            "Value counts for column 'Junction_Control':\n",
            "Uncontrolled                 41365\n",
            "Not at  Junction             30295\n",
            "Controlled                   25047\n",
            "No signal lights              9119\n",
            "Police / Manual               2260\n",
            "Give way sign                 1961\n",
            "Signal lights Automatic       1084\n",
            "Stop sign                     1045\n",
            "Signal lights Blinking         715\n",
            "Signals (Working)              324\n",
            "Signals (Not working)          265\n",
            "Signal lights Manual           264\n",
            "Stop Sign                      259\n",
            "Signal lights Not working      112\n",
            "Name: Junction_Control, dtype: int64\n",
            "\n",
            "Value counts for column 'Road_Character':\n",
            "Straight and flat          46144\n",
            "Others                     35882\n",
            "Curve                      20700\n",
            "Hump                        2711\n",
            "Slight Curve                2496\n",
            "Incline                     2401\n",
            "Curve and Incline           1234\n",
            "Sharp Curve                  968\n",
            "Crest of hill                710\n",
            "Steep Incline or Climb       364\n",
            "Dip or trough                336\n",
            "Gentle Incline or Climb      169\n",
            "Name: Road_Character, dtype: int64\n",
            "\n",
            "Value counts for column 'Road_Type':\n",
            "NH                     59329\n",
            "State Highway          24231\n",
            "Others                 11462\n",
            "Village Road            5000\n",
            "City or Town Road       4045\n",
            "Two way                 2587\n",
            "One way                 1394\n",
            "Service Road            1182\n",
            "Major District Road     1067\n",
            "Minor District Road      944\n",
            "Expressway               822\n",
            "Residential Street       689\n",
            "Arterial                 682\n",
            "Mixed                    313\n",
            "Forest Road              165\n",
            "Sub Arterial             160\n",
            "Feeder Road               43\n",
            "Name: Road_Type, dtype: int64\n",
            "\n",
            "Value counts for column 'Surface_Type':\n",
            "Bitumen(Tar)    103027\n",
            "Concrete          4807\n",
            "Surfaced          2641\n",
            "Kutcha            1762\n",
            "Gravel            1249\n",
            "Metalled           629\n",
            "Name: Surface_Type, dtype: int64\n",
            "\n",
            "Value counts for column 'Surface_Condition':\n",
            "Dry                  98400\n",
            "Others               11319\n",
            "Wet                   2011\n",
            "Ditch or Potholed     1109\n",
            "Muddy                  785\n",
            "Flooded                491\n",
            "Name: Surface_Condition, dtype: int64\n",
            "\n",
            "Value counts for column 'Road_Condition':\n",
            "No influence on accident        89239\n",
            "Construction Work / Material     8569\n",
            "Engineering Defect of Road       7049\n",
            "Pot holed                        6309\n",
            "Drainage Ditch                   2949\n",
            "Name: Road_Condition, dtype: int64\n",
            "\n",
            "Value counts for column 'Weather':\n",
            "Clear                            53814\n",
            "Fine                             40417\n",
            "Others                           11527\n",
            "Cloudy                            3342\n",
            "Light Rain                        1187\n",
            "Very Hot                          1095\n",
            "Very Cold                          590\n",
            "Fog / Mist                         459\n",
            "Snow                               404\n",
            "Heavy Rain                         367\n",
            "Mist or Fog                        254\n",
            "Dust Storn                         243\n",
            "Wind                               225\n",
            "Flooding of Slipways/Rivulets       91\n",
            "Strong Wind                         82\n",
            "Hail or Sleet                       18\n",
            "Name: Weather, dtype: int64\n",
            "\n",
            "Value counts for column 'Accident_Road':\n",
            "NH                               8991\n",
            "SH                               3663\n",
            "NH 66                            3153\n",
            "State Highway                    2297\n",
            "STATE HIGHWAY                    2113\n",
            "                                 ... \n",
            "NH-218 Road                         5\n",
            "RAMADURG SUREBAN ROAD               4\n",
            "TARIKERE ROAD                       4\n",
            "T Narasipura Mysore Main Road       1\n",
            "Damber Raod                         1\n",
            "Name: Accident_Road, Length: 777, dtype: int64\n",
            "\n",
            "Value counts for column 'Latitude':\n",
            "14.666670    24751\n",
            "13.500000    11724\n",
            "14.222620     9701\n",
            "12.971940     6466\n",
            "13.931570     4993\n",
            "13.007150     4885\n",
            "12.650000     4447\n",
            "12.840000     3615\n",
            "14.430000     3565\n",
            "13.322310     3085\n",
            "12.521450     2659\n",
            "16.186730     2653\n",
            "16.824420     2623\n",
            "12.917230     2526\n",
            "17.913310     2442\n",
            "12.297910     2387\n",
            "14.793540     2064\n",
            "16.160000     2043\n",
            "13.959276     1634\n",
            "15.325000     1602\n",
            "15.347760     1546\n",
            "15.852120     1486\n",
            "12.416670     1346\n",
            "13.136710     1129\n",
            "15.145750     1129\n",
            "15.460050      989\n",
            "12.981437      871\n",
            "12.519357      796\n",
            "16.730000      746\n",
            "15.345220      698\n",
            "13.309456      463\n",
            "13.867303      438\n",
            "15.429770      402\n",
            "14.167839      367\n",
            "12.680494      362\n",
            "15.471961      293\n",
            "12.489243      171\n",
            "12.256518      137\n",
            "13.349191      125\n",
            "15.600629      119\n",
            "13.260890      117\n",
            "13.686743      103\n",
            "13.002609       97\n",
            "12.587151       75\n",
            "14.914951       56\n",
            "13.604543       41\n",
            "13.458739       30\n",
            "13.137382       27\n",
            "15.144562       25\n",
            "16.865303       19\n",
            "16.194643       18\n",
            "13.950670       13\n",
            "13.086133       11\n",
            "12.705736        5\n",
            "Name: Latitude, dtype: int64\n",
            "\n",
            "Value counts for column 'Longitude':\n",
            "75.833330    24751\n",
            "76.400380     9701\n",
            "77.593690     6466\n",
            "77.000000     6116\n",
            "74.870000     5608\n",
            "75.567910     4993\n",
            "76.096200     4885\n",
            "77.350000     4447\n",
            "75.290000     3615\n",
            "75.900000     3565\n",
            "75.774000     3085\n",
            "76.895270     2659\n",
            "75.696140     2653\n",
            "75.715370     2623\n",
            "74.856030     2526\n",
            "77.530110     2442\n",
            "76.639250     2387\n",
            "75.404480     2064\n",
            "76.910000     2043\n",
            "76.610980     1634\n",
            "76.465000     1602\n",
            "75.133780     1546\n",
            "74.504470     1486\n",
            "75.750000     1346\n",
            "76.917510     1129\n",
            "78.129170     1129\n",
            "75.007780      989\n",
            "76.735749      871\n",
            "76.884689      796\n",
            "76.940000      746\n",
            "76.154780      698\n",
            "76.948541      463\n",
            "74.626801      438\n",
            "75.629710      402\n",
            "75.032234      367\n",
            "77.469343      362\n",
            "74.989350      293\n",
            "77.035245      171\n",
            "77.122484      137\n",
            "74.785973      125\n",
            "76.658014      119\n",
            "76.460982      117\n",
            "74.660641      103\n",
            "77.938556       97\n",
            "77.041699       75\n",
            "75.270790       56\n",
            "74.862516       41\n",
            "74.989894       30\n",
            "75.554530       27\n",
            "76.925315       25\n",
            "77.389298       19\n",
            "76.655595       18\n",
            "75.559904       13\n",
            "76.204760       11\n",
            "76.817299        5\n",
            "Name: Longitude, dtype: int64\n",
            "\n",
            "Value counts for column 'Month':\n",
            "1.0     10257\n",
            "12.0    10126\n",
            "3.0      9995\n",
            "5.0      9759\n",
            "2.0      9501\n",
            "11.0     8870\n",
            "10.0     8804\n",
            "6.0      8732\n",
            "4.0      8630\n",
            "8.0      8226\n",
            "9.0      8093\n",
            "7.0      7780\n",
            "Name: Month, dtype: int64\n",
            "\n",
            "Value counts for column 'age':\n",
            "35.0     4931\n",
            "30.0     4875\n",
            "45.0     4605\n",
            "40.0     4340\n",
            "25.0     4259\n",
            "         ... \n",
            "89.0        4\n",
            "95.0        3\n",
            "100.0       3\n",
            "96.0        2\n",
            "105.0       1\n",
            "Name: age, Length: 95, dtype: int64\n",
            "\n",
            "Value counts for column 'Sex':\n",
            "MALE      86415\n",
            "FEMALE    22327\n",
            "Enuch        16\n",
            "Name: Sex, dtype: int64\n",
            "\n",
            "Value counts for column 'PersonType':\n",
            "Injured                   85935\n",
            "Deceased                  16315\n",
            "complainnant               5951\n",
            "Others                      447\n",
            "Unidentified Dead Body       72\n",
            "Unidentified Person          50\n",
            "Arrest                        3\n",
            "Name: PersonType, dtype: int64\n",
            "\n",
            "Value counts for column 'Vehicle_Involvement':\n",
            "2_vehicles           66661\n",
            "1_vehicle            43474\n",
            "multiple_vehicles     3980\n",
            "Name: Vehicle_Involvement, dtype: int64\n",
            "\n",
            "Value counts for column 'severity_score':\n",
            "73.103323    2618\n",
            "70.235532    1634\n",
            "81.357263    1540\n",
            "66.592593    1355\n",
            "65.046729    1217\n",
            "             ... \n",
            "83.137255       1\n",
            "88.333333       1\n",
            "87.572016       1\n",
            "86.767372       1\n",
            "58.993711       1\n",
            "Name: severity_score, Length: 679, dtype: int64\n",
            "\n"
          ]
        }
      ]
    },
    {
      "cell_type": "code",
      "source": [
        "accidentdata.to_csv('accident_data.csv')"
      ],
      "metadata": {
        "id": "65CiK3H5PnXX"
      },
      "execution_count": 29,
      "outputs": []
    },
    {
      "cell_type": "code",
      "source": [
        "accidentdata.columns"
      ],
      "metadata": {
        "colab": {
          "base_uri": "https://localhost:8080/"
        },
        "id": "0FTbB196QDGO",
        "outputId": "50067abd-97da-42e5-e63e-99af56c6c4d5"
      },
      "execution_count": 229,
      "outputs": [
        {
          "output_type": "execute_result",
          "data": {
            "text/plain": [
              "Index(['DISTRICTNAME', 'UNITNAME', 'Year', 'Accident_Spot',\n",
              "       'Accident_Location', 'Accident_SubLocation', 'Main_Cause', 'Hit_Run',\n",
              "       'Collision_Type', 'Junction_Control', 'Road_Character', 'Road_Type',\n",
              "       'Surface_Type', 'Surface_Condition', 'Road_Condition', 'Weather',\n",
              "       'Accident_Road', 'Latitude', 'Longitude', 'Month', 'age', 'Sex',\n",
              "       'PersonType', 'Vehicle_Involvement', 'severity_score'],\n",
              "      dtype='object')"
            ]
          },
          "metadata": {},
          "execution_count": 229
        }
      ]
    },
    {
      "cell_type": "code",
      "source": [
        "accidentdata['Vehicle_Involvement'] = accidentdata['Vehicle_Involvement'].apply(lambda x: 2 if x == '2_vehicles' else x)"
      ],
      "metadata": {
        "id": "y7E986lVKT8v"
      },
      "execution_count": 16,
      "outputs": []
    },
    {
      "cell_type": "code",
      "source": [
        "import pandas as pd\n",
        "accidentdata = pd.read_csv('/content/accident3.csv')"
      ],
      "metadata": {
        "id": "naVbbkR4pbyi"
      },
      "execution_count": 5,
      "outputs": []
    },
    {
      "cell_type": "code",
      "source": [
        "from sklearn.preprocessing import LabelEncoder, StandardScaler\n",
        "from sklearn.cluster import KMeans\n",
        "\n",
        "# Encoding categorical variables\n",
        "categorical_columns = ['Accident_Spot', 'Main_Cause','Junction_Control', 'Road_Character', 'Road_Type', 'Severity', 'Surface_Type',\n",
        "                        'Road_Condition', 'Weather',\n",
        "                       'Sex', 'PersonType']\n",
        "\n",
        "label_encoders = {}\n",
        "for column in categorical_columns:\n",
        "    label_encoders[column] = LabelEncoder()\n",
        "    accidentdata[column] = label_encoders[column].fit_transform(accidentdata[column])\n",
        "\n",
        "# Scaling numerical variables\n",
        "numerical_columns = ['Year', 'Latitude', 'Longitude', 'age', 'Noofvehicle_involved']\n",
        "scaler = StandardScaler()\n",
        "accidentdata[numerical_columns] = scaler.fit_transform(accidentdata[numerical_columns])\n",
        "\n",
        "# Training the model\n",
        "num_clusters = 20\n",
        "kmeans = KMeans(n_clusters=num_clusters)\n",
        "kmeans.fit(accidentdata)"
      ],
      "metadata": {
        "colab": {
          "base_uri": "https://localhost:8080/",
          "height": 130
        },
        "id": "roR2BIh6Pi_V",
        "outputId": "c262a080-03b5-4364-8744-b95f70896597"
      },
      "execution_count": 6,
      "outputs": [
        {
          "output_type": "stream",
          "name": "stderr",
          "text": [
            "/usr/local/lib/python3.10/dist-packages/sklearn/cluster/_kmeans.py:870: FutureWarning: The default value of `n_init` will change from 10 to 'auto' in 1.4. Set the value of `n_init` explicitly to suppress the warning\n",
            "  warnings.warn(\n"
          ]
        },
        {
          "output_type": "execute_result",
          "data": {
            "text/plain": [
              "KMeans(n_clusters=20)"
            ],
            "text/html": [
              "<style>#sk-container-id-1 {color: black;background-color: white;}#sk-container-id-1 pre{padding: 0;}#sk-container-id-1 div.sk-toggleable {background-color: white;}#sk-container-id-1 label.sk-toggleable__label {cursor: pointer;display: block;width: 100%;margin-bottom: 0;padding: 0.3em;box-sizing: border-box;text-align: center;}#sk-container-id-1 label.sk-toggleable__label-arrow:before {content: \"▸\";float: left;margin-right: 0.25em;color: #696969;}#sk-container-id-1 label.sk-toggleable__label-arrow:hover:before {color: black;}#sk-container-id-1 div.sk-estimator:hover label.sk-toggleable__label-arrow:before {color: black;}#sk-container-id-1 div.sk-toggleable__content {max-height: 0;max-width: 0;overflow: hidden;text-align: left;background-color: #f0f8ff;}#sk-container-id-1 div.sk-toggleable__content pre {margin: 0.2em;color: black;border-radius: 0.25em;background-color: #f0f8ff;}#sk-container-id-1 input.sk-toggleable__control:checked~div.sk-toggleable__content {max-height: 200px;max-width: 100%;overflow: auto;}#sk-container-id-1 input.sk-toggleable__control:checked~label.sk-toggleable__label-arrow:before {content: \"▾\";}#sk-container-id-1 div.sk-estimator input.sk-toggleable__control:checked~label.sk-toggleable__label {background-color: #d4ebff;}#sk-container-id-1 div.sk-label input.sk-toggleable__control:checked~label.sk-toggleable__label {background-color: #d4ebff;}#sk-container-id-1 input.sk-hidden--visually {border: 0;clip: rect(1px 1px 1px 1px);clip: rect(1px, 1px, 1px, 1px);height: 1px;margin: -1px;overflow: hidden;padding: 0;position: absolute;width: 1px;}#sk-container-id-1 div.sk-estimator {font-family: monospace;background-color: #f0f8ff;border: 1px dotted black;border-radius: 0.25em;box-sizing: border-box;margin-bottom: 0.5em;}#sk-container-id-1 div.sk-estimator:hover {background-color: #d4ebff;}#sk-container-id-1 div.sk-parallel-item::after {content: \"\";width: 100%;border-bottom: 1px solid gray;flex-grow: 1;}#sk-container-id-1 div.sk-label:hover label.sk-toggleable__label {background-color: #d4ebff;}#sk-container-id-1 div.sk-serial::before {content: \"\";position: absolute;border-left: 1px solid gray;box-sizing: border-box;top: 0;bottom: 0;left: 50%;z-index: 0;}#sk-container-id-1 div.sk-serial {display: flex;flex-direction: column;align-items: center;background-color: white;padding-right: 0.2em;padding-left: 0.2em;position: relative;}#sk-container-id-1 div.sk-item {position: relative;z-index: 1;}#sk-container-id-1 div.sk-parallel {display: flex;align-items: stretch;justify-content: center;background-color: white;position: relative;}#sk-container-id-1 div.sk-item::before, #sk-container-id-1 div.sk-parallel-item::before {content: \"\";position: absolute;border-left: 1px solid gray;box-sizing: border-box;top: 0;bottom: 0;left: 50%;z-index: -1;}#sk-container-id-1 div.sk-parallel-item {display: flex;flex-direction: column;z-index: 1;position: relative;background-color: white;}#sk-container-id-1 div.sk-parallel-item:first-child::after {align-self: flex-end;width: 50%;}#sk-container-id-1 div.sk-parallel-item:last-child::after {align-self: flex-start;width: 50%;}#sk-container-id-1 div.sk-parallel-item:only-child::after {width: 0;}#sk-container-id-1 div.sk-dashed-wrapped {border: 1px dashed gray;margin: 0 0.4em 0.5em 0.4em;box-sizing: border-box;padding-bottom: 0.4em;background-color: white;}#sk-container-id-1 div.sk-label label {font-family: monospace;font-weight: bold;display: inline-block;line-height: 1.2em;}#sk-container-id-1 div.sk-label-container {text-align: center;}#sk-container-id-1 div.sk-container {/* jupyter's `normalize.less` sets `[hidden] { display: none; }` but bootstrap.min.css set `[hidden] { display: none !important; }` so we also need the `!important` here to be able to override the default hidden behavior on the sphinx rendered scikit-learn.org. See: https://github.com/scikit-learn/scikit-learn/issues/21755 */display: inline-block !important;position: relative;}#sk-container-id-1 div.sk-text-repr-fallback {display: none;}</style><div id=\"sk-container-id-1\" class=\"sk-top-container\"><div class=\"sk-text-repr-fallback\"><pre>KMeans(n_clusters=20)</pre><b>In a Jupyter environment, please rerun this cell to show the HTML representation or trust the notebook. <br />On GitHub, the HTML representation is unable to render, please try loading this page with nbviewer.org.</b></div><div class=\"sk-container\" hidden><div class=\"sk-item\"><div class=\"sk-estimator sk-toggleable\"><input class=\"sk-toggleable__control sk-hidden--visually\" id=\"sk-estimator-id-1\" type=\"checkbox\" checked><label for=\"sk-estimator-id-1\" class=\"sk-toggleable__label sk-toggleable__label-arrow\">KMeans</label><div class=\"sk-toggleable__content\"><pre>KMeans(n_clusters=20)</pre></div></div></div></div></div>"
            ]
          },
          "metadata": {},
          "execution_count": 6
        }
      ]
    },
    {
      "cell_type": "code",
      "source": [
        "from sklearn.cluster import AgglomerativeClustering\n",
        "import pandas as pd\n",
        "\n",
        "# Combine numerical and categorical columns\n",
        "columns_to_use = numerical_columns + categorical_columns\n",
        "\n",
        "# Scale numerical columns\n",
        "X = accidentdata[columns_to_use].copy()\n",
        "X[numerical_columns] = scaler.transform(X[numerical_columns])\n",
        "\n",
        "# Instantiate the Hierarchical Clustering model\n",
        "hierarchical_clustering = AgglomerativeClustering(n_clusters=5, linkage='ward')\n",
        "\n",
        "# Fit the model to the data\n",
        "clusters = hierarchical_clustering.fit_predict(X)\n",
        "\n",
        "# Add the cluster assignments to the original DataFrame\n",
        "accidentdata['cluster'] = clusters"
      ],
      "metadata": {
        "id": "G0GeCsVJk27_"
      },
      "execution_count": null,
      "outputs": []
    },
    {
      "cell_type": "code",
      "source": [
        "# Encoding categorical variables for test data\n",
        "for column in categorical_columns:\n",
        "    if column in accidentdata.columns:\n",
        "        accidentdata[column] = label_encoders[column].transform(accidentdata[column])\n",
        "\n",
        "# Scaling numerical variables for test data\n",
        "accidentdata[numerical_columns] = scaler.transform(accidentdata[numerical_columns])\n",
        "\n",
        "# Predicting clusters for test data\n",
        "test_clusters = kmeans.predict(accidentdata)\n"
      ],
      "metadata": {
        "id": "0swdjTLdTCmg"
      },
      "execution_count": null,
      "outputs": []
    },
    {
      "cell_type": "code",
      "source": [
        "cluster_centroids = kmeans.cluster_centers_"
      ],
      "metadata": {
        "id": "4K_Cm_lsUYHe"
      },
      "execution_count": null,
      "outputs": []
    },
    {
      "cell_type": "code",
      "source": [
        "for cluster_id in range(num_clusters):\n",
        "    cluster_data = accidentdata[test_clusters == cluster_id]\n",
        "    print(f\"Cluster {cluster_id}:\")\n",
        "    print(cluster_data.describe())\n",
        "    print(\"\\n\")"
      ],
      "metadata": {
        "id": "q_gyY12LUZ8e"
      },
      "execution_count": null,
      "outputs": []
    },
    {
      "cell_type": "code",
      "source": [
        "import matplotlib.pyplot as plt\n",
        "\n",
        "# Select two features to plot\n",
        "x_feature = 'Accident_SubLocation'\n",
        "y_feature = 'Hit_Run'\n",
        "\n",
        "# Create a scatter plot\n",
        "plt.scatter(accidentdata[x_feature], accidentdata[y_feature], c=test_clusters, cmap='viridis')\n",
        "plt.xlabel(x_feature)\n",
        "plt.ylabel(y_feature)\n",
        "plt.title('Scatter Plot with Cluster Assignments')\n",
        "plt.colorbar(label='Cluster')\n",
        "plt.show()"
      ],
      "metadata": {
        "id": "rkjB2B8dUm34"
      },
      "execution_count": null,
      "outputs": []
    },
    {
      "cell_type": "code",
      "source": [
        "accidentdata.columns"
      ],
      "metadata": {
        "id": "W75hIqSWmdYy"
      },
      "execution_count": null,
      "outputs": []
    },
    {
      "cell_type": "code",
      "source": [
        "from sklearn.preprocessing import LabelEncoder, StandardScaler\n",
        "from sklearn.cluster import DBSCAN\n",
        "import pandas as pd\n",
        "\n",
        "# Create a copy of the DataFrame for encoding and clustering\n",
        "accident_data_encoded = accidentdata.copy()\n",
        "\n",
        "# Encoding categorical variables\n",
        "categorical_columns = ['Accident_Spot','Main_Cause',\n",
        "                       'Junction_Control', 'Road_Character', 'Road_Type', 'Surface_Type',\n",
        "                       'Weather','Sex', 'PersonType', 'Severity']\n",
        "\n",
        "label_encoders = {}\n",
        "for column in categorical_columns:\n",
        "    label_encoders[column] = LabelEncoder()\n",
        "    accident_data_encoded[column] = label_encoders[column].fit_transform(accident_data_encoded[column])\n",
        "\n",
        "# Scaling numerical variables\n",
        "numerical_columns = ['Year', 'Latitude', 'Longitude', 'age', 'Noofvehicle_involved']\n",
        "scaler = StandardScaler()\n",
        "accident_data_encoded[numerical_columns] = scaler.fit_transform(accident_data_encoded[numerical_columns])\n",
        "\n",
        "# Combine numerical and categorical columns\n",
        "columns_to_use = numerical_columns + categorical_columns\n",
        "\n",
        "# Create a new DataFrame with scaled numerical and encoded categorical columns\n",
        "X = accident_data_encoded[columns_to_use]\n",
        "\n",
        "# Instantiate the DBSCAN model\n",
        "dbscan = DBSCAN(eps=0.3, min_samples=10000)  # You may need to tune these parameters\n",
        "\n",
        "# Fit the model to the data\n",
        "clusters = dbscan.fit_predict(X)\n",
        "\n",
        "# Add the cluster assignments to the original DataFrame\n",
        "accidentdata['cluster'] = clusters"
      ],
      "metadata": {
        "id": "qe4NR7-PejBz"
      },
      "execution_count": null,
      "outputs": []
    },
    {
      "cell_type": "code",
      "source": [
        "accidentdata"
      ],
      "metadata": {
        "colab": {
          "base_uri": "https://localhost:8080/",
          "height": 635
        },
        "id": "wV44bvDioAho",
        "outputId": "b313be89-9083-432e-fdba-f1b9e37dce66"
      },
      "execution_count": 184,
      "outputs": [
        {
          "output_type": "execute_result",
          "data": {
            "text/plain": [
              "        Year  Noofvehicle_involved Accident_Spot   Main_Cause  \\\n",
              "0       2016                   1.0    Bottleneck  Human Error   \n",
              "1       2016                   1.0    Bottleneck  Human Error   \n",
              "2       2016                   1.0        Bridge  Human Error   \n",
              "3       2016                   1.0        Bridge  Human Error   \n",
              "4       2016                   1.0        Bridge  Human Error   \n",
              "...      ...                   ...           ...          ...   \n",
              "487829  2023                   2.0      Junction  Human Error   \n",
              "487830  2023                   2.0      Junction  Human Error   \n",
              "487831  2023                   1.0      Junction  Human Error   \n",
              "487832  2023                   1.0      Junction  Human Error   \n",
              "487833  2023                   1.0        Circle  Human Error   \n",
              "\n",
              "               Severity Junction_Control     Road_Character  \\\n",
              "0       Grievous Injury       Controlled              Curve   \n",
              "1       Grievous Injury       Controlled              Curve   \n",
              "2                 Fatal       Controlled  Straight and flat   \n",
              "3                 Fatal       Controlled              Curve   \n",
              "4                 Fatal     Uncontrolled  Straight and flat   \n",
              "...                 ...              ...                ...   \n",
              "487829  Grievous Injury     Uncontrolled              Curve   \n",
              "487830  Grievous Injury     Uncontrolled              Curve   \n",
              "487831            Fatal     Uncontrolled  Straight and flat   \n",
              "487832  Grievous Injury     Uncontrolled              Curve   \n",
              "487833  Grievous Injury     Uncontrolled  Straight and flat   \n",
              "\n",
              "                  Road_Type  Surface_Type                Road_Condition  \\\n",
              "0             State Highway  Bitumen(Tar)  Construction Work / Material   \n",
              "1             State Highway  Bitumen(Tar)                     Pot holed   \n",
              "2             State Highway  Bitumen(Tar)                     Pot holed   \n",
              "3             State Highway  Bitumen(Tar)                     Pot holed   \n",
              "4             State Highway  Bitumen(Tar)                     Pot holed   \n",
              "...                     ...           ...                           ...   \n",
              "487829  Minor District Road  Bitumen(Tar)    Engineering Defect of Road   \n",
              "487830  Minor District Road  Bitumen(Tar)  Construction Work / Material   \n",
              "487831                   NH  Bitumen(Tar)                     Pot holed   \n",
              "487832                   NH  Bitumen(Tar)  Construction Work / Material   \n",
              "487833                   NH  Bitumen(Tar)  Construction Work / Material   \n",
              "\n",
              "       Weather  Latitude  Longitude   age     Sex PersonType  cluster  \n",
              "0        Clear  16.18673   75.69614  60.0  FEMALE    Injured       -1  \n",
              "1        Clear  16.18673   75.69614  42.0    MALE    Injured       -1  \n",
              "2         Rain  16.18673   75.69614  21.0    MALE    Injured       -1  \n",
              "3         Rain  16.18673   75.69614  23.0    MALE    Injured       -1  \n",
              "4         Rain  16.18673   75.69614  30.0    MALE    Injured       -1  \n",
              "...        ...       ...        ...   ...     ...        ...      ...  \n",
              "487829   Clear  16.73000   76.94000  18.0    MALE    Injured       -1  \n",
              "487830   Clear  16.73000   76.94000  18.0    MALE    Injured       -1  \n",
              "487831   Clear  16.73000   76.94000  35.0    MALE   Deceased       -1  \n",
              "487832   Clear  16.73000   76.94000  70.0    MALE    Injured       -1  \n",
              "487833   Clear  16.73000   76.94000  28.0    MALE    Injured       -1  \n",
              "\n",
              "[484827 rows x 17 columns]"
            ],
            "text/html": [
              "\n",
              "  <div id=\"df-5bb66bfd-946f-4ec3-9254-fa9400ede87c\" class=\"colab-df-container\">\n",
              "    <div>\n",
              "<style scoped>\n",
              "    .dataframe tbody tr th:only-of-type {\n",
              "        vertical-align: middle;\n",
              "    }\n",
              "\n",
              "    .dataframe tbody tr th {\n",
              "        vertical-align: top;\n",
              "    }\n",
              "\n",
              "    .dataframe thead th {\n",
              "        text-align: right;\n",
              "    }\n",
              "</style>\n",
              "<table border=\"1\" class=\"dataframe\">\n",
              "  <thead>\n",
              "    <tr style=\"text-align: right;\">\n",
              "      <th></th>\n",
              "      <th>Year</th>\n",
              "      <th>Noofvehicle_involved</th>\n",
              "      <th>Accident_Spot</th>\n",
              "      <th>Main_Cause</th>\n",
              "      <th>Severity</th>\n",
              "      <th>Junction_Control</th>\n",
              "      <th>Road_Character</th>\n",
              "      <th>Road_Type</th>\n",
              "      <th>Surface_Type</th>\n",
              "      <th>Road_Condition</th>\n",
              "      <th>Weather</th>\n",
              "      <th>Latitude</th>\n",
              "      <th>Longitude</th>\n",
              "      <th>age</th>\n",
              "      <th>Sex</th>\n",
              "      <th>PersonType</th>\n",
              "      <th>cluster</th>\n",
              "    </tr>\n",
              "  </thead>\n",
              "  <tbody>\n",
              "    <tr>\n",
              "      <th>0</th>\n",
              "      <td>2016</td>\n",
              "      <td>1.0</td>\n",
              "      <td>Bottleneck</td>\n",
              "      <td>Human Error</td>\n",
              "      <td>Grievous Injury</td>\n",
              "      <td>Controlled</td>\n",
              "      <td>Curve</td>\n",
              "      <td>State Highway</td>\n",
              "      <td>Bitumen(Tar)</td>\n",
              "      <td>Construction Work / Material</td>\n",
              "      <td>Clear</td>\n",
              "      <td>16.18673</td>\n",
              "      <td>75.69614</td>\n",
              "      <td>60.0</td>\n",
              "      <td>FEMALE</td>\n",
              "      <td>Injured</td>\n",
              "      <td>-1</td>\n",
              "    </tr>\n",
              "    <tr>\n",
              "      <th>1</th>\n",
              "      <td>2016</td>\n",
              "      <td>1.0</td>\n",
              "      <td>Bottleneck</td>\n",
              "      <td>Human Error</td>\n",
              "      <td>Grievous Injury</td>\n",
              "      <td>Controlled</td>\n",
              "      <td>Curve</td>\n",
              "      <td>State Highway</td>\n",
              "      <td>Bitumen(Tar)</td>\n",
              "      <td>Pot holed</td>\n",
              "      <td>Clear</td>\n",
              "      <td>16.18673</td>\n",
              "      <td>75.69614</td>\n",
              "      <td>42.0</td>\n",
              "      <td>MALE</td>\n",
              "      <td>Injured</td>\n",
              "      <td>-1</td>\n",
              "    </tr>\n",
              "    <tr>\n",
              "      <th>2</th>\n",
              "      <td>2016</td>\n",
              "      <td>1.0</td>\n",
              "      <td>Bridge</td>\n",
              "      <td>Human Error</td>\n",
              "      <td>Fatal</td>\n",
              "      <td>Controlled</td>\n",
              "      <td>Straight and flat</td>\n",
              "      <td>State Highway</td>\n",
              "      <td>Bitumen(Tar)</td>\n",
              "      <td>Pot holed</td>\n",
              "      <td>Rain</td>\n",
              "      <td>16.18673</td>\n",
              "      <td>75.69614</td>\n",
              "      <td>21.0</td>\n",
              "      <td>MALE</td>\n",
              "      <td>Injured</td>\n",
              "      <td>-1</td>\n",
              "    </tr>\n",
              "    <tr>\n",
              "      <th>3</th>\n",
              "      <td>2016</td>\n",
              "      <td>1.0</td>\n",
              "      <td>Bridge</td>\n",
              "      <td>Human Error</td>\n",
              "      <td>Fatal</td>\n",
              "      <td>Controlled</td>\n",
              "      <td>Curve</td>\n",
              "      <td>State Highway</td>\n",
              "      <td>Bitumen(Tar)</td>\n",
              "      <td>Pot holed</td>\n",
              "      <td>Rain</td>\n",
              "      <td>16.18673</td>\n",
              "      <td>75.69614</td>\n",
              "      <td>23.0</td>\n",
              "      <td>MALE</td>\n",
              "      <td>Injured</td>\n",
              "      <td>-1</td>\n",
              "    </tr>\n",
              "    <tr>\n",
              "      <th>4</th>\n",
              "      <td>2016</td>\n",
              "      <td>1.0</td>\n",
              "      <td>Bridge</td>\n",
              "      <td>Human Error</td>\n",
              "      <td>Fatal</td>\n",
              "      <td>Uncontrolled</td>\n",
              "      <td>Straight and flat</td>\n",
              "      <td>State Highway</td>\n",
              "      <td>Bitumen(Tar)</td>\n",
              "      <td>Pot holed</td>\n",
              "      <td>Rain</td>\n",
              "      <td>16.18673</td>\n",
              "      <td>75.69614</td>\n",
              "      <td>30.0</td>\n",
              "      <td>MALE</td>\n",
              "      <td>Injured</td>\n",
              "      <td>-1</td>\n",
              "    </tr>\n",
              "    <tr>\n",
              "      <th>...</th>\n",
              "      <td>...</td>\n",
              "      <td>...</td>\n",
              "      <td>...</td>\n",
              "      <td>...</td>\n",
              "      <td>...</td>\n",
              "      <td>...</td>\n",
              "      <td>...</td>\n",
              "      <td>...</td>\n",
              "      <td>...</td>\n",
              "      <td>...</td>\n",
              "      <td>...</td>\n",
              "      <td>...</td>\n",
              "      <td>...</td>\n",
              "      <td>...</td>\n",
              "      <td>...</td>\n",
              "      <td>...</td>\n",
              "      <td>...</td>\n",
              "    </tr>\n",
              "    <tr>\n",
              "      <th>487829</th>\n",
              "      <td>2023</td>\n",
              "      <td>2.0</td>\n",
              "      <td>Junction</td>\n",
              "      <td>Human Error</td>\n",
              "      <td>Grievous Injury</td>\n",
              "      <td>Uncontrolled</td>\n",
              "      <td>Curve</td>\n",
              "      <td>Minor District Road</td>\n",
              "      <td>Bitumen(Tar)</td>\n",
              "      <td>Engineering Defect of Road</td>\n",
              "      <td>Clear</td>\n",
              "      <td>16.73000</td>\n",
              "      <td>76.94000</td>\n",
              "      <td>18.0</td>\n",
              "      <td>MALE</td>\n",
              "      <td>Injured</td>\n",
              "      <td>-1</td>\n",
              "    </tr>\n",
              "    <tr>\n",
              "      <th>487830</th>\n",
              "      <td>2023</td>\n",
              "      <td>2.0</td>\n",
              "      <td>Junction</td>\n",
              "      <td>Human Error</td>\n",
              "      <td>Grievous Injury</td>\n",
              "      <td>Uncontrolled</td>\n",
              "      <td>Curve</td>\n",
              "      <td>Minor District Road</td>\n",
              "      <td>Bitumen(Tar)</td>\n",
              "      <td>Construction Work / Material</td>\n",
              "      <td>Clear</td>\n",
              "      <td>16.73000</td>\n",
              "      <td>76.94000</td>\n",
              "      <td>18.0</td>\n",
              "      <td>MALE</td>\n",
              "      <td>Injured</td>\n",
              "      <td>-1</td>\n",
              "    </tr>\n",
              "    <tr>\n",
              "      <th>487831</th>\n",
              "      <td>2023</td>\n",
              "      <td>1.0</td>\n",
              "      <td>Junction</td>\n",
              "      <td>Human Error</td>\n",
              "      <td>Fatal</td>\n",
              "      <td>Uncontrolled</td>\n",
              "      <td>Straight and flat</td>\n",
              "      <td>NH</td>\n",
              "      <td>Bitumen(Tar)</td>\n",
              "      <td>Pot holed</td>\n",
              "      <td>Clear</td>\n",
              "      <td>16.73000</td>\n",
              "      <td>76.94000</td>\n",
              "      <td>35.0</td>\n",
              "      <td>MALE</td>\n",
              "      <td>Deceased</td>\n",
              "      <td>-1</td>\n",
              "    </tr>\n",
              "    <tr>\n",
              "      <th>487832</th>\n",
              "      <td>2023</td>\n",
              "      <td>1.0</td>\n",
              "      <td>Junction</td>\n",
              "      <td>Human Error</td>\n",
              "      <td>Grievous Injury</td>\n",
              "      <td>Uncontrolled</td>\n",
              "      <td>Curve</td>\n",
              "      <td>NH</td>\n",
              "      <td>Bitumen(Tar)</td>\n",
              "      <td>Construction Work / Material</td>\n",
              "      <td>Clear</td>\n",
              "      <td>16.73000</td>\n",
              "      <td>76.94000</td>\n",
              "      <td>70.0</td>\n",
              "      <td>MALE</td>\n",
              "      <td>Injured</td>\n",
              "      <td>-1</td>\n",
              "    </tr>\n",
              "    <tr>\n",
              "      <th>487833</th>\n",
              "      <td>2023</td>\n",
              "      <td>1.0</td>\n",
              "      <td>Circle</td>\n",
              "      <td>Human Error</td>\n",
              "      <td>Grievous Injury</td>\n",
              "      <td>Uncontrolled</td>\n",
              "      <td>Straight and flat</td>\n",
              "      <td>NH</td>\n",
              "      <td>Bitumen(Tar)</td>\n",
              "      <td>Construction Work / Material</td>\n",
              "      <td>Clear</td>\n",
              "      <td>16.73000</td>\n",
              "      <td>76.94000</td>\n",
              "      <td>28.0</td>\n",
              "      <td>MALE</td>\n",
              "      <td>Injured</td>\n",
              "      <td>-1</td>\n",
              "    </tr>\n",
              "  </tbody>\n",
              "</table>\n",
              "<p>484827 rows × 17 columns</p>\n",
              "</div>\n",
              "    <div class=\"colab-df-buttons\">\n",
              "\n",
              "  <div class=\"colab-df-container\">\n",
              "    <button class=\"colab-df-convert\" onclick=\"convertToInteractive('df-5bb66bfd-946f-4ec3-9254-fa9400ede87c')\"\n",
              "            title=\"Convert this dataframe to an interactive table.\"\n",
              "            style=\"display:none;\">\n",
              "\n",
              "  <svg xmlns=\"http://www.w3.org/2000/svg\" height=\"24px\" viewBox=\"0 -960 960 960\">\n",
              "    <path d=\"M120-120v-720h720v720H120Zm60-500h600v-160H180v160Zm220 220h160v-160H400v160Zm0 220h160v-160H400v160ZM180-400h160v-160H180v160Zm440 0h160v-160H620v160ZM180-180h160v-160H180v160Zm440 0h160v-160H620v160Z\"/>\n",
              "  </svg>\n",
              "    </button>\n",
              "\n",
              "  <style>\n",
              "    .colab-df-container {\n",
              "      display:flex;\n",
              "      gap: 12px;\n",
              "    }\n",
              "\n",
              "    .colab-df-convert {\n",
              "      background-color: #E8F0FE;\n",
              "      border: none;\n",
              "      border-radius: 50%;\n",
              "      cursor: pointer;\n",
              "      display: none;\n",
              "      fill: #1967D2;\n",
              "      height: 32px;\n",
              "      padding: 0 0 0 0;\n",
              "      width: 32px;\n",
              "    }\n",
              "\n",
              "    .colab-df-convert:hover {\n",
              "      background-color: #E2EBFA;\n",
              "      box-shadow: 0px 1px 2px rgba(60, 64, 67, 0.3), 0px 1px 3px 1px rgba(60, 64, 67, 0.15);\n",
              "      fill: #174EA6;\n",
              "    }\n",
              "\n",
              "    .colab-df-buttons div {\n",
              "      margin-bottom: 4px;\n",
              "    }\n",
              "\n",
              "    [theme=dark] .colab-df-convert {\n",
              "      background-color: #3B4455;\n",
              "      fill: #D2E3FC;\n",
              "    }\n",
              "\n",
              "    [theme=dark] .colab-df-convert:hover {\n",
              "      background-color: #434B5C;\n",
              "      box-shadow: 0px 1px 3px 1px rgba(0, 0, 0, 0.15);\n",
              "      filter: drop-shadow(0px 1px 2px rgba(0, 0, 0, 0.3));\n",
              "      fill: #FFFFFF;\n",
              "    }\n",
              "  </style>\n",
              "\n",
              "    <script>\n",
              "      const buttonEl =\n",
              "        document.querySelector('#df-5bb66bfd-946f-4ec3-9254-fa9400ede87c button.colab-df-convert');\n",
              "      buttonEl.style.display =\n",
              "        google.colab.kernel.accessAllowed ? 'block' : 'none';\n",
              "\n",
              "      async function convertToInteractive(key) {\n",
              "        const element = document.querySelector('#df-5bb66bfd-946f-4ec3-9254-fa9400ede87c');\n",
              "        const dataTable =\n",
              "          await google.colab.kernel.invokeFunction('convertToInteractive',\n",
              "                                                    [key], {});\n",
              "        if (!dataTable) return;\n",
              "\n",
              "        const docLinkHtml = 'Like what you see? Visit the ' +\n",
              "          '<a target=\"_blank\" href=https://colab.research.google.com/notebooks/data_table.ipynb>data table notebook</a>'\n",
              "          + ' to learn more about interactive tables.';\n",
              "        element.innerHTML = '';\n",
              "        dataTable['output_type'] = 'display_data';\n",
              "        await google.colab.output.renderOutput(dataTable, element);\n",
              "        const docLink = document.createElement('div');\n",
              "        docLink.innerHTML = docLinkHtml;\n",
              "        element.appendChild(docLink);\n",
              "      }\n",
              "    </script>\n",
              "  </div>\n",
              "\n",
              "\n",
              "<div id=\"df-495d9510-571c-4b97-a546-4f12fb95752a\">\n",
              "  <button class=\"colab-df-quickchart\" onclick=\"quickchart('df-495d9510-571c-4b97-a546-4f12fb95752a')\"\n",
              "            title=\"Suggest charts\"\n",
              "            style=\"display:none;\">\n",
              "\n",
              "<svg xmlns=\"http://www.w3.org/2000/svg\" height=\"24px\"viewBox=\"0 0 24 24\"\n",
              "     width=\"24px\">\n",
              "    <g>\n",
              "        <path d=\"M19 3H5c-1.1 0-2 .9-2 2v14c0 1.1.9 2 2 2h14c1.1 0 2-.9 2-2V5c0-1.1-.9-2-2-2zM9 17H7v-7h2v7zm4 0h-2V7h2v10zm4 0h-2v-4h2v4z\"/>\n",
              "    </g>\n",
              "</svg>\n",
              "  </button>\n",
              "\n",
              "<style>\n",
              "  .colab-df-quickchart {\n",
              "      --bg-color: #E8F0FE;\n",
              "      --fill-color: #1967D2;\n",
              "      --hover-bg-color: #E2EBFA;\n",
              "      --hover-fill-color: #174EA6;\n",
              "      --disabled-fill-color: #AAA;\n",
              "      --disabled-bg-color: #DDD;\n",
              "  }\n",
              "\n",
              "  [theme=dark] .colab-df-quickchart {\n",
              "      --bg-color: #3B4455;\n",
              "      --fill-color: #D2E3FC;\n",
              "      --hover-bg-color: #434B5C;\n",
              "      --hover-fill-color: #FFFFFF;\n",
              "      --disabled-bg-color: #3B4455;\n",
              "      --disabled-fill-color: #666;\n",
              "  }\n",
              "\n",
              "  .colab-df-quickchart {\n",
              "    background-color: var(--bg-color);\n",
              "    border: none;\n",
              "    border-radius: 50%;\n",
              "    cursor: pointer;\n",
              "    display: none;\n",
              "    fill: var(--fill-color);\n",
              "    height: 32px;\n",
              "    padding: 0;\n",
              "    width: 32px;\n",
              "  }\n",
              "\n",
              "  .colab-df-quickchart:hover {\n",
              "    background-color: var(--hover-bg-color);\n",
              "    box-shadow: 0 1px 2px rgba(60, 64, 67, 0.3), 0 1px 3px 1px rgba(60, 64, 67, 0.15);\n",
              "    fill: var(--button-hover-fill-color);\n",
              "  }\n",
              "\n",
              "  .colab-df-quickchart-complete:disabled,\n",
              "  .colab-df-quickchart-complete:disabled:hover {\n",
              "    background-color: var(--disabled-bg-color);\n",
              "    fill: var(--disabled-fill-color);\n",
              "    box-shadow: none;\n",
              "  }\n",
              "\n",
              "  .colab-df-spinner {\n",
              "    border: 2px solid var(--fill-color);\n",
              "    border-color: transparent;\n",
              "    border-bottom-color: var(--fill-color);\n",
              "    animation:\n",
              "      spin 1s steps(1) infinite;\n",
              "  }\n",
              "\n",
              "  @keyframes spin {\n",
              "    0% {\n",
              "      border-color: transparent;\n",
              "      border-bottom-color: var(--fill-color);\n",
              "      border-left-color: var(--fill-color);\n",
              "    }\n",
              "    20% {\n",
              "      border-color: transparent;\n",
              "      border-left-color: var(--fill-color);\n",
              "      border-top-color: var(--fill-color);\n",
              "    }\n",
              "    30% {\n",
              "      border-color: transparent;\n",
              "      border-left-color: var(--fill-color);\n",
              "      border-top-color: var(--fill-color);\n",
              "      border-right-color: var(--fill-color);\n",
              "    }\n",
              "    40% {\n",
              "      border-color: transparent;\n",
              "      border-right-color: var(--fill-color);\n",
              "      border-top-color: var(--fill-color);\n",
              "    }\n",
              "    60% {\n",
              "      border-color: transparent;\n",
              "      border-right-color: var(--fill-color);\n",
              "    }\n",
              "    80% {\n",
              "      border-color: transparent;\n",
              "      border-right-color: var(--fill-color);\n",
              "      border-bottom-color: var(--fill-color);\n",
              "    }\n",
              "    90% {\n",
              "      border-color: transparent;\n",
              "      border-bottom-color: var(--fill-color);\n",
              "    }\n",
              "  }\n",
              "</style>\n",
              "\n",
              "  <script>\n",
              "    async function quickchart(key) {\n",
              "      const quickchartButtonEl =\n",
              "        document.querySelector('#' + key + ' button');\n",
              "      quickchartButtonEl.disabled = true;  // To prevent multiple clicks.\n",
              "      quickchartButtonEl.classList.add('colab-df-spinner');\n",
              "      try {\n",
              "        const charts = await google.colab.kernel.invokeFunction(\n",
              "            'suggestCharts', [key], {});\n",
              "      } catch (error) {\n",
              "        console.error('Error during call to suggestCharts:', error);\n",
              "      }\n",
              "      quickchartButtonEl.classList.remove('colab-df-spinner');\n",
              "      quickchartButtonEl.classList.add('colab-df-quickchart-complete');\n",
              "    }\n",
              "    (() => {\n",
              "      let quickchartButtonEl =\n",
              "        document.querySelector('#df-495d9510-571c-4b97-a546-4f12fb95752a button');\n",
              "      quickchartButtonEl.style.display =\n",
              "        google.colab.kernel.accessAllowed ? 'block' : 'none';\n",
              "    })();\n",
              "  </script>\n",
              "</div>\n",
              "\n",
              "  <div id=\"id_2f813063-06f1-4422-ad44-43a5fdd73741\">\n",
              "    <style>\n",
              "      .colab-df-generate {\n",
              "        background-color: #E8F0FE;\n",
              "        border: none;\n",
              "        border-radius: 50%;\n",
              "        cursor: pointer;\n",
              "        display: none;\n",
              "        fill: #1967D2;\n",
              "        height: 32px;\n",
              "        padding: 0 0 0 0;\n",
              "        width: 32px;\n",
              "      }\n",
              "\n",
              "      .colab-df-generate:hover {\n",
              "        background-color: #E2EBFA;\n",
              "        box-shadow: 0px 1px 2px rgba(60, 64, 67, 0.3), 0px 1px 3px 1px rgba(60, 64, 67, 0.15);\n",
              "        fill: #174EA6;\n",
              "      }\n",
              "\n",
              "      [theme=dark] .colab-df-generate {\n",
              "        background-color: #3B4455;\n",
              "        fill: #D2E3FC;\n",
              "      }\n",
              "\n",
              "      [theme=dark] .colab-df-generate:hover {\n",
              "        background-color: #434B5C;\n",
              "        box-shadow: 0px 1px 3px 1px rgba(0, 0, 0, 0.15);\n",
              "        filter: drop-shadow(0px 1px 2px rgba(0, 0, 0, 0.3));\n",
              "        fill: #FFFFFF;\n",
              "      }\n",
              "    </style>\n",
              "    <button class=\"colab-df-generate\" onclick=\"generateWithVariable('accidentdata')\"\n",
              "            title=\"Generate code using this dataframe.\"\n",
              "            style=\"display:none;\">\n",
              "\n",
              "  <svg xmlns=\"http://www.w3.org/2000/svg\" height=\"24px\"viewBox=\"0 0 24 24\"\n",
              "       width=\"24px\">\n",
              "    <path d=\"M7,19H8.4L18.45,9,17,7.55,7,17.6ZM5,21V16.75L18.45,3.32a2,2,0,0,1,2.83,0l1.4,1.43a1.91,1.91,0,0,1,.58,1.4,1.91,1.91,0,0,1-.58,1.4L9.25,21ZM18.45,9,17,7.55Zm-12,3A5.31,5.31,0,0,0,4.9,8.1,5.31,5.31,0,0,0,1,6.5,5.31,5.31,0,0,0,4.9,4.9,5.31,5.31,0,0,0,6.5,1,5.31,5.31,0,0,0,8.1,4.9,5.31,5.31,0,0,0,12,6.5,5.46,5.46,0,0,0,6.5,12Z\"/>\n",
              "  </svg>\n",
              "    </button>\n",
              "    <script>\n",
              "      (() => {\n",
              "      const buttonEl =\n",
              "        document.querySelector('#id_2f813063-06f1-4422-ad44-43a5fdd73741 button.colab-df-generate');\n",
              "      buttonEl.style.display =\n",
              "        google.colab.kernel.accessAllowed ? 'block' : 'none';\n",
              "\n",
              "      buttonEl.onclick = () => {\n",
              "        google.colab.notebook.generateWithVariable('accidentdata');\n",
              "      }\n",
              "      })();\n",
              "    </script>\n",
              "  </div>\n",
              "\n",
              "    </div>\n",
              "  </div>\n"
            ],
            "application/vnd.google.colaboratory.intrinsic+json": {
              "type": "dataframe",
              "variable_name": "accidentdata"
            }
          },
          "metadata": {},
          "execution_count": 184
        }
      ]
    },
    {
      "cell_type": "code",
      "source": [
        "import matplotlib.pyplot as plt\n",
        "\n",
        "# Select two features to plot\n",
        "x_feature = 'Year'\n",
        "y_feature = 'Main_Cause'\n",
        "\n",
        "# Create a scatter plot\n",
        "plt.figure(figsize=(10, 8))\n",
        "scatter = plt.scatter(accidentdata[x_feature], accidentdata[y_feature], c=accidentdata['cluster'], cmap='viridis')\n",
        "plt.colorbar(scatter)\n",
        "plt.title('Scatter Plot with DBSCAN Cluster Assignments')\n",
        "plt.xlabel(x_feature)\n",
        "plt.ylabel(y_feature)\n",
        "plt.show()"
      ],
      "metadata": {
        "id": "XMl28ZaOWNfP"
      },
      "execution_count": null,
      "outputs": []
    },
    {
      "cell_type": "code",
      "source": [
        "from sklearn.cluster import DBSCAN\n",
        "\n",
        "# Create a dummy data point\n",
        "dummy_data = {'Year': 2022, 'Latitude': 77.9, 'Longitude': 12.0059, 'Month': 3, 'age': 35, 'Vehicle_Involvement': 1, 'severity_score': 2}\n",
        "\n",
        "# Convert dummy data to a DataFrame\n",
        "dummy_df = pd.DataFrame([dummy_data])\n",
        "\n",
        "# Scale numerical variables for the dummy data\n",
        "dummy_df[numerical_columns] = scaler.transform(dummy_df[numerical_columns])\n",
        "\n",
        "# Select only the numerical columns for prediction\n",
        "X_dummy = dummy_df[numerical_columns]\n",
        "\n",
        "# Predict the cluster for the dummy data point\n",
        "dummy_cluster = dbscan.fit_predict(X_dummy)\n"
      ],
      "metadata": {
        "id": "ZJDcJSI3cfhy"
      },
      "execution_count": null,
      "outputs": []
    },
    {
      "cell_type": "code",
      "source": [
        "accidentdata = accidnt_data.to_csv"
      ],
      "metadata": {
        "id": "O3l22igKWQNs"
      },
      "execution_count": null,
      "outputs": []
    },
    {
      "cell_type": "code",
      "source": [
        "accidentdata.drop('Surface_Condition', axis=1, inplace=True)"
      ],
      "metadata": {
        "id": "YVSouovniFAp"
      },
      "execution_count": null,
      "outputs": []
    },
    {
      "cell_type": "code",
      "source": [
        "import pandas as pd\n",
        "file_path_accidentdata = \"/content/accidentdata2.csv\"\n",
        "\n",
        "# Read the CSV file into a DataFrame\n",
        "accidentdata = pd.read_csv(file_path_accidentdata)"
      ],
      "metadata": {
        "id": "1FziPgeZjckb"
      },
      "execution_count": 13,
      "outputs": []
    },
    {
      "cell_type": "code",
      "source": [
        "accidentdata.columns"
      ],
      "metadata": {
        "colab": {
          "base_uri": "https://localhost:8080/"
        },
        "id": "WxaPrwH-drRd",
        "outputId": "d940ba9b-fbf6-4051-edff-42f5c700837e"
      },
      "execution_count": 124,
      "outputs": [
        {
          "output_type": "execute_result",
          "data": {
            "text/plain": [
              "Index(['Year', 'Noofvehicle_involved', 'Accident_Spot', 'Main_Cause',\n",
              "       'Severity', 'Junction_Control', 'Road_Character', 'Road_Type',\n",
              "       'Surface_Type', 'Road_Condition', 'Weather', 'Latitude', 'Longitude',\n",
              "       'age', 'Sex', 'PersonType'],\n",
              "      dtype='object')"
            ]
          },
          "metadata": {},
          "execution_count": 124
        }
      ]
    },
    {
      "cell_type": "code",
      "source": [
        "accidentdata['Severity'].value_counts()"
      ],
      "metadata": {
        "colab": {
          "base_uri": "https://localhost:8080/"
        },
        "id": "hOX2tUUAW_Xm",
        "outputId": "49688f97-b47c-4618-b31b-6c2a5886f8dc"
      },
      "execution_count": 161,
      "outputs": [
        {
          "output_type": "execute_result",
          "data": {
            "text/plain": [
              "Grievous Injury    214649\n",
              "Fatal              124623\n",
              "Simple Injury      118929\n",
              "Damage Only         26626\n",
              "Name: Severity, dtype: int64"
            ]
          },
          "metadata": {},
          "execution_count": 161
        }
      ]
    },
    {
      "cell_type": "code",
      "source": [
        "accidentdata.loc[accidentdata['Severity'] == 'Father', 'Severity'] = 'Fatal'"
      ],
      "metadata": {
        "id": "nusOFlr9Yboj"
      },
      "execution_count": 160,
      "outputs": []
    },
    {
      "cell_type": "code",
      "source": [
        "accidentdata.drop(['Surface_Condition'], axis=1, inplace = True)"
      ],
      "metadata": {
        "id": "c-14bAe0WzxQ"
      },
      "execution_count": 122,
      "outputs": []
    },
    {
      "cell_type": "code",
      "source": [
        "accidentdata.isna().sum()"
      ],
      "metadata": {
        "colab": {
          "base_uri": "https://localhost:8080/"
        },
        "id": "Xu_CeacNbzP6",
        "outputId": "aca166d7-9042-4561-8ea1-0996b0a67e4d"
      },
      "execution_count": 44,
      "outputs": [
        {
          "output_type": "execute_result",
          "data": {
            "text/plain": [
              "Year                    0\n",
              "Noofvehicle_involved    0\n",
              "Accident_Spot           0\n",
              "Main_Cause              0\n",
              "Severity                0\n",
              "Junction_Control        0\n",
              "Road_Character          0\n",
              "Road_Type               0\n",
              "Surface_Type            0\n",
              "Surface_Condition       0\n",
              "Road_Condition          0\n",
              "Weather                 0\n",
              "Latitude                0\n",
              "Longitude               0\n",
              "age                     0\n",
              "Sex                     0\n",
              "PersonType              0\n",
              "dtype: int64"
            ]
          },
          "metadata": {},
          "execution_count": 44
        }
      ]
    },
    {
      "cell_type": "code",
      "source": [
        "average_value = accidentdata.loc[accidentdata['Noofvehicle_involved'] > 5, 'Noofvehicle_involved'].mean()\n",
        "\n",
        "accidentdata.loc[accidentdata['Noofvehicle_involved'] > 5, 'Noofvehicle_involved'] = average_value"
      ],
      "metadata": {
        "id": "8zqw3lAoc0ga"
      },
      "execution_count": 47,
      "outputs": []
    },
    {
      "cell_type": "code",
      "source": [
        "import numpy as np\n",
        "# Step 1: Calculate the frequency of each non-NaN value in column 'a'\n",
        "value_counts = accidentdata['PersonType'].value_counts(dropna=True)\n",
        "\n",
        "# Step 2: Calculate the total count of non-NaN values\n",
        "total_count = value_counts.sum()\n",
        "\n",
        "# Step 3: Calculate the frequency distribution for each non-NaN value\n",
        "distribution = value_counts / total_count\n",
        "\n",
        "# Step 4: Replace the NaN values with non-NaN values based on their frequency distribution\n",
        "nan_indices = accidentdata['PersonType'].isnull()  # Get indices where 'a' is NaN\n",
        "replacement_values = np.random.choice(distribution.index, size=nan_indices.sum(), p=distribution.values)\n",
        "accidentdata.loc[nan_indices, 'PersonType'] = replacement_values\n"
      ],
      "metadata": {
        "id": "770mZDVESOZl"
      },
      "execution_count": 43,
      "outputs": []
    },
    {
      "cell_type": "code",
      "source": [
        "accidentdata.to_csv('accident3.csv')"
      ],
      "metadata": {
        "id": "4eMCcJgglAIU"
      },
      "execution_count": 176,
      "outputs": []
    },
    {
      "cell_type": "markdown",
      "source": [
        "dummy_cluster"
      ],
      "metadata": {
        "id": "9XbGgaWec_t2"
      }
    },
    {
      "cell_type": "code",
      "source": [
        "\n",
        "value_counts = accidentdata['age'].value_counts()\n",
        "\n",
        "values_to_replace = value_counts[value_counts < 200].index.tolist()\n",
        "\n",
        "replacement_values = accidentdata['age'].value_counts().index.tolist()\n",
        "replacement_values = [val for val in replacement_values if val not in values_to_replace]\n",
        "\n",
        "num_values = len(values_to_replace)\n",
        "num_replacement_values = len(replacement_values)\n",
        "add_count_per_value = 200 // num_replacement_values\n",
        "\n",
        "for value in values_to_replace:\n",
        "    replace_indices = accidentdata.index[accidentdata['age'] == value]\n",
        "    for i in range(num_replacement_values):\n",
        "        replacement_value = replacement_values[i]\n",
        "        replacement_indices = accidentdata.index[accidentdata['age'] == replacement_value]\n",
        "        if len(replacement_indices) > add_count_per_value:\n",
        "            accidentdata.loc[replace_indices[:add_count_per_value], 'age'] = replacement_value\n",
        "            replace_indices = replace_indices[add_count_per_value:]\n",
        "        else:\n",
        "            accidentdata.loc[replace_indices[:len(replacement_indices)], 'age'] = replacement_value\n",
        "            replace_indices = replace_indices[len(replacement_indices):]\n"
      ],
      "metadata": {
        "id": "JS901fdrl7PN"
      },
      "execution_count": 171,
      "outputs": []
    }
  ]
}