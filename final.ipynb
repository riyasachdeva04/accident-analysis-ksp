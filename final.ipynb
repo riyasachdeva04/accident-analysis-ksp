{
  "nbformat": 4,
  "nbformat_minor": 0,
  "metadata": {
    "colab": {
      "provenance": []
    },
    "kernelspec": {
      "name": "python3",
      "display_name": "Python 3"
    },
    "language_info": {
      "name": "python"
    }
  },
  "cells": [
    {
      "cell_type": "code",
      "execution_count": null,
      "metadata": {
        "colab": {
          "base_uri": "https://localhost:8080/"
        },
        "id": "js3aF5M-OAWd",
        "outputId": "13816931-47e0-4bf7-9a5f-6d6fad5c9661"
      },
      "outputs": [
        {
          "output_type": "stream",
          "name": "stdout",
          "text": [
            "Mounted at /content/drive\n"
          ]
        }
      ],
      "source": [
        "# Mount Google Drive\n",
        "from google.colab import drive\n",
        "drive.mount('/content/drive')\n",
        "\n",
        "# Import necessary libraries\n",
        "import pandas as pd\n",
        "\n",
        "# Path to your CSV file in Google Drive\n",
        "file_path_AccidentReports = \"/content/drive/My Drive/accident_data.csv\""
      ]
    },
    {
      "cell_type": "code",
      "source": [
        "X = pd.read_csv(file_path_AccidentReports)"
      ],
      "metadata": {
        "id": "pHXgoPQrOjEo"
      },
      "execution_count": null,
      "outputs": []
    },
    {
      "cell_type": "code",
      "source": [
        "file_path_AccidentReports2 = \"/content/drive/My Drive/output.csv\"\n",
        "X2 = pd.read_csv(file_path_AccidentReports2)"
      ],
      "metadata": {
        "id": "MVp5fiOMW-Ag"
      },
      "execution_count": null,
      "outputs": []
    },
    {
      "cell_type": "code",
      "source": [
        "X1 = X"
      ],
      "metadata": {
        "id": "SgZMQgvITN9B"
      },
      "execution_count": null,
      "outputs": []
    },
    {
      "cell_type": "code",
      "source": [
        "X = X.drop(['Collision_TypeB', 'InjuryType', 'Hit_Run', 'Landmark_first', 'Accident_Road', 'landmark_second', 'Distance_LandMark_First', 'Distance_LandMark_Second', 'Surface_Type', 'Accident_Description', 'Injury_Nature', 'Crime_No', 'RI', 'Noofvehicle_involved', 'Accident_Classification', 'Accident_Location', 'Accident_SpotB', 'Main_Cause', 'Collision_Type', 'Junction_Control', 'Road_Condition', 'Lane_Type', 'Road_Markings', 'Spot_Conditions', 'Side_Walk', 'RoadJunction'], axis = 1)"
      ],
      "metadata": {
        "id": "a9PkqEkOUPio"
      },
      "execution_count": null,
      "outputs": []
    },
    {
      "cell_type": "code",
      "source": [
        "X.isnull().sum()\n"
      ],
      "metadata": {
        "colab": {
          "base_uri": "https://localhost:8080/"
        },
        "id": "LsfzbjzrUHi2",
        "outputId": "ff7a15cb-e17a-458d-935e-cc1328bf5235"
      },
      "execution_count": null,
      "outputs": [
        {
          "output_type": "execute_result",
          "data": {
            "text/plain": [
              "DISTRICTNAME                0\n",
              "UNITNAME                    0\n",
              "Year                        0\n",
              "Accident_Spot               0\n",
              "Accident_SubLocation        0\n",
              "Severity                    0\n",
              "Road_Character              0\n",
              "Road_Type                   0\n",
              "Surface_Condition           0\n",
              "Weather                     0\n",
              "Latitude                    0\n",
              "Longitude                   0\n",
              "Month                   20959\n",
              "age                     20959\n",
              "Sex                     21007\n",
              "PersonType              20959\n",
              "dtype: int64"
            ]
          },
          "metadata": {},
          "execution_count": 67
        }
      ]
    },
    {
      "cell_type": "code",
      "source": [
        "\n",
        "X.nunique()\n"
      ],
      "metadata": {
        "colab": {
          "base_uri": "https://localhost:8080/"
        },
        "id": "pQrphAyKV7DK",
        "outputId": "83911516-b1f9-42c3-b887-731ab817ecf5"
      },
      "execution_count": null,
      "outputs": [
        {
          "output_type": "execute_result",
          "data": {
            "text/plain": [
              "DISTRICTNAME             38\n",
              "UNITNAME                727\n",
              "Year                      8\n",
              "Accident_Spot            20\n",
              "Accident_SubLocation     15\n",
              "Severity                 11\n",
              "Road_Character           13\n",
              "Road_Type                18\n",
              "Surface_Condition         7\n",
              "Weather                  17\n",
              "Latitude                 54\n",
              "Longitude                55\n",
              "Month                    12\n",
              "age                     106\n",
              "Sex                       3\n",
              "PersonType               10\n",
              "dtype: int64"
            ]
          },
          "metadata": {},
          "execution_count": 70
        }
      ]
    },
    {
      "cell_type": "code",
      "source": [
        "X_Dataset = X"
      ],
      "metadata": {
        "id": "aAkHRnjrWiY_"
      },
      "execution_count": null,
      "outputs": []
    },
    {
      "cell_type": "code",
      "source": [
        "accidentdata = X"
      ],
      "metadata": {
        "id": "oGsvu23HWpen"
      },
      "execution_count": null,
      "outputs": []
    },
    {
      "cell_type": "code",
      "source": [
        "accidentdata = accidentdata.drop('Surface_Condition', axis = 1)"
      ],
      "metadata": {
        "id": "Et6mOFrqYus1"
      },
      "execution_count": null,
      "outputs": []
    },
    {
      "cell_type": "code",
      "source": [
        "X_Dataset2 = accidentdata"
      ],
      "metadata": {
        "id": "5M0BL_5lZPGZ"
      },
      "execution_count": null,
      "outputs": []
    },
    {
      "cell_type": "code",
      "source": [
        "accidentdata = accidentdata.drop(['PersonType', 'Sex', 'Weather'], axis = 1)"
      ],
      "metadata": {
        "id": "EcMx3WqUZFcr"
      },
      "execution_count": null,
      "outputs": []
    },
    {
      "cell_type": "code",
      "source": [
        "accidentdata"
      ],
      "metadata": {
        "colab": {
          "base_uri": "https://localhost:8080/",
          "height": 771
        },
        "id": "nxJjXv6oZrgt",
        "outputId": "a000dce9-bc56-44a4-ee37-e1bffad2afa2"
      },
      "execution_count": null,
      "outputs": [
        {
          "output_type": "execute_result",
          "data": {
            "text/plain": [
              "       DISTRICTNAME                        UNITNAME  Year Accident_Spot  \\\n",
              "0          Bagalkot          Amingad Police Station  2016    Bottleneck   \n",
              "1          Bagalkot          Amingad Police Station  2016    Bottleneck   \n",
              "2          Bagalkot          Amingad Police Station  2016        Bridge   \n",
              "3          Bagalkot          Amingad Police Station  2016        Bridge   \n",
              "4          Bagalkot          Amingad Police Station  2016        Bridge   \n",
              "...             ...                             ...   ...           ...   \n",
              "487829       Yadgir  Yadgiri Traffic Police Station  2023   Cross roads   \n",
              "487830       Yadgir  Yadgiri Traffic Police Station  2023   Cross roads   \n",
              "487831       Yadgir  Yadgiri Traffic Police Station  2023         Other   \n",
              "487832       Yadgir  Yadgiri Traffic Police Station  2023   Cross roads   \n",
              "487833       Yadgir  Yadgiri Traffic Police Station  2023        Curves   \n",
              "\n",
              "                  Accident_SubLocation         Severity     Road_Character  \\\n",
              "0                            Open area  Grievous Injury              Curve   \n",
              "1                            Open area  Grievous Injury              Curve   \n",
              "2            Narrow bridge or culverts            Fatal  Straight and flat   \n",
              "3            Narrow bridge or culverts            Fatal              Curve   \n",
              "4            Narrow bridge or culverts            Fatal              Curve   \n",
              "...                                ...              ...                ...   \n",
              "487829             Near office complex  Grievous Injury              Curve   \n",
              "487830             Near office complex  Grievous Injury              Curve   \n",
              "487831  Near a factory industrial area            Fatal  Straight and flat   \n",
              "487832                Residential area  Grievous Injury              Curve   \n",
              "487833                Residential area  Grievous Injury  Straight and flat   \n",
              "\n",
              "                  Road_Type  Month  \n",
              "0             State Highway    8.0  \n",
              "1             State Highway    8.0  \n",
              "2             State Highway    8.0  \n",
              "3             State Highway    8.0  \n",
              "4             State Highway    8.0  \n",
              "...                     ...    ...  \n",
              "487829  Minor District Road    5.0  \n",
              "487830  Minor District Road    5.0  \n",
              "487831     National Highway    7.0  \n",
              "487832     National Highway    8.0  \n",
              "487833     National Highway    3.0  \n",
              "\n",
              "[487834 rows x 9 columns]"
            ],
            "text/html": [
              "\n",
              "  <div id=\"df-e5062607-bf26-4b92-aa9b-9aa819cdc9f9\" class=\"colab-df-container\">\n",
              "    <div>\n",
              "<style scoped>\n",
              "    .dataframe tbody tr th:only-of-type {\n",
              "        vertical-align: middle;\n",
              "    }\n",
              "\n",
              "    .dataframe tbody tr th {\n",
              "        vertical-align: top;\n",
              "    }\n",
              "\n",
              "    .dataframe thead th {\n",
              "        text-align: right;\n",
              "    }\n",
              "</style>\n",
              "<table border=\"1\" class=\"dataframe\">\n",
              "  <thead>\n",
              "    <tr style=\"text-align: right;\">\n",
              "      <th></th>\n",
              "      <th>DISTRICTNAME</th>\n",
              "      <th>UNITNAME</th>\n",
              "      <th>Year</th>\n",
              "      <th>Accident_Spot</th>\n",
              "      <th>Accident_SubLocation</th>\n",
              "      <th>Severity</th>\n",
              "      <th>Road_Character</th>\n",
              "      <th>Road_Type</th>\n",
              "      <th>Month</th>\n",
              "    </tr>\n",
              "  </thead>\n",
              "  <tbody>\n",
              "    <tr>\n",
              "      <th>0</th>\n",
              "      <td>Bagalkot</td>\n",
              "      <td>Amingad Police Station</td>\n",
              "      <td>2016</td>\n",
              "      <td>Bottleneck</td>\n",
              "      <td>Open area</td>\n",
              "      <td>Grievous Injury</td>\n",
              "      <td>Curve</td>\n",
              "      <td>State Highway</td>\n",
              "      <td>8.0</td>\n",
              "    </tr>\n",
              "    <tr>\n",
              "      <th>1</th>\n",
              "      <td>Bagalkot</td>\n",
              "      <td>Amingad Police Station</td>\n",
              "      <td>2016</td>\n",
              "      <td>Bottleneck</td>\n",
              "      <td>Open area</td>\n",
              "      <td>Grievous Injury</td>\n",
              "      <td>Curve</td>\n",
              "      <td>State Highway</td>\n",
              "      <td>8.0</td>\n",
              "    </tr>\n",
              "    <tr>\n",
              "      <th>2</th>\n",
              "      <td>Bagalkot</td>\n",
              "      <td>Amingad Police Station</td>\n",
              "      <td>2016</td>\n",
              "      <td>Bridge</td>\n",
              "      <td>Narrow bridge or culverts</td>\n",
              "      <td>Fatal</td>\n",
              "      <td>Straight and flat</td>\n",
              "      <td>State Highway</td>\n",
              "      <td>8.0</td>\n",
              "    </tr>\n",
              "    <tr>\n",
              "      <th>3</th>\n",
              "      <td>Bagalkot</td>\n",
              "      <td>Amingad Police Station</td>\n",
              "      <td>2016</td>\n",
              "      <td>Bridge</td>\n",
              "      <td>Narrow bridge or culverts</td>\n",
              "      <td>Fatal</td>\n",
              "      <td>Curve</td>\n",
              "      <td>State Highway</td>\n",
              "      <td>8.0</td>\n",
              "    </tr>\n",
              "    <tr>\n",
              "      <th>4</th>\n",
              "      <td>Bagalkot</td>\n",
              "      <td>Amingad Police Station</td>\n",
              "      <td>2016</td>\n",
              "      <td>Bridge</td>\n",
              "      <td>Narrow bridge or culverts</td>\n",
              "      <td>Fatal</td>\n",
              "      <td>Curve</td>\n",
              "      <td>State Highway</td>\n",
              "      <td>8.0</td>\n",
              "    </tr>\n",
              "    <tr>\n",
              "      <th>...</th>\n",
              "      <td>...</td>\n",
              "      <td>...</td>\n",
              "      <td>...</td>\n",
              "      <td>...</td>\n",
              "      <td>...</td>\n",
              "      <td>...</td>\n",
              "      <td>...</td>\n",
              "      <td>...</td>\n",
              "      <td>...</td>\n",
              "    </tr>\n",
              "    <tr>\n",
              "      <th>487829</th>\n",
              "      <td>Yadgir</td>\n",
              "      <td>Yadgiri Traffic Police Station</td>\n",
              "      <td>2023</td>\n",
              "      <td>Cross roads</td>\n",
              "      <td>Near office complex</td>\n",
              "      <td>Grievous Injury</td>\n",
              "      <td>Curve</td>\n",
              "      <td>Minor District Road</td>\n",
              "      <td>5.0</td>\n",
              "    </tr>\n",
              "    <tr>\n",
              "      <th>487830</th>\n",
              "      <td>Yadgir</td>\n",
              "      <td>Yadgiri Traffic Police Station</td>\n",
              "      <td>2023</td>\n",
              "      <td>Cross roads</td>\n",
              "      <td>Near office complex</td>\n",
              "      <td>Grievous Injury</td>\n",
              "      <td>Curve</td>\n",
              "      <td>Minor District Road</td>\n",
              "      <td>5.0</td>\n",
              "    </tr>\n",
              "    <tr>\n",
              "      <th>487831</th>\n",
              "      <td>Yadgir</td>\n",
              "      <td>Yadgiri Traffic Police Station</td>\n",
              "      <td>2023</td>\n",
              "      <td>Other</td>\n",
              "      <td>Near a factory industrial area</td>\n",
              "      <td>Fatal</td>\n",
              "      <td>Straight and flat</td>\n",
              "      <td>National Highway</td>\n",
              "      <td>7.0</td>\n",
              "    </tr>\n",
              "    <tr>\n",
              "      <th>487832</th>\n",
              "      <td>Yadgir</td>\n",
              "      <td>Yadgiri Traffic Police Station</td>\n",
              "      <td>2023</td>\n",
              "      <td>Cross roads</td>\n",
              "      <td>Residential area</td>\n",
              "      <td>Grievous Injury</td>\n",
              "      <td>Curve</td>\n",
              "      <td>National Highway</td>\n",
              "      <td>8.0</td>\n",
              "    </tr>\n",
              "    <tr>\n",
              "      <th>487833</th>\n",
              "      <td>Yadgir</td>\n",
              "      <td>Yadgiri Traffic Police Station</td>\n",
              "      <td>2023</td>\n",
              "      <td>Curves</td>\n",
              "      <td>Residential area</td>\n",
              "      <td>Grievous Injury</td>\n",
              "      <td>Straight and flat</td>\n",
              "      <td>National Highway</td>\n",
              "      <td>3.0</td>\n",
              "    </tr>\n",
              "  </tbody>\n",
              "</table>\n",
              "<p>487834 rows × 9 columns</p>\n",
              "</div>\n",
              "    <div class=\"colab-df-buttons\">\n",
              "\n",
              "  <div class=\"colab-df-container\">\n",
              "    <button class=\"colab-df-convert\" onclick=\"convertToInteractive('df-e5062607-bf26-4b92-aa9b-9aa819cdc9f9')\"\n",
              "            title=\"Convert this dataframe to an interactive table.\"\n",
              "            style=\"display:none;\">\n",
              "\n",
              "  <svg xmlns=\"http://www.w3.org/2000/svg\" height=\"24px\" viewBox=\"0 -960 960 960\">\n",
              "    <path d=\"M120-120v-720h720v720H120Zm60-500h600v-160H180v160Zm220 220h160v-160H400v160Zm0 220h160v-160H400v160ZM180-400h160v-160H180v160Zm440 0h160v-160H620v160ZM180-180h160v-160H180v160Zm440 0h160v-160H620v160Z\"/>\n",
              "  </svg>\n",
              "    </button>\n",
              "\n",
              "  <style>\n",
              "    .colab-df-container {\n",
              "      display:flex;\n",
              "      gap: 12px;\n",
              "    }\n",
              "\n",
              "    .colab-df-convert {\n",
              "      background-color: #E8F0FE;\n",
              "      border: none;\n",
              "      border-radius: 50%;\n",
              "      cursor: pointer;\n",
              "      display: none;\n",
              "      fill: #1967D2;\n",
              "      height: 32px;\n",
              "      padding: 0 0 0 0;\n",
              "      width: 32px;\n",
              "    }\n",
              "\n",
              "    .colab-df-convert:hover {\n",
              "      background-color: #E2EBFA;\n",
              "      box-shadow: 0px 1px 2px rgba(60, 64, 67, 0.3), 0px 1px 3px 1px rgba(60, 64, 67, 0.15);\n",
              "      fill: #174EA6;\n",
              "    }\n",
              "\n",
              "    .colab-df-buttons div {\n",
              "      margin-bottom: 4px;\n",
              "    }\n",
              "\n",
              "    [theme=dark] .colab-df-convert {\n",
              "      background-color: #3B4455;\n",
              "      fill: #D2E3FC;\n",
              "    }\n",
              "\n",
              "    [theme=dark] .colab-df-convert:hover {\n",
              "      background-color: #434B5C;\n",
              "      box-shadow: 0px 1px 3px 1px rgba(0, 0, 0, 0.15);\n",
              "      filter: drop-shadow(0px 1px 2px rgba(0, 0, 0, 0.3));\n",
              "      fill: #FFFFFF;\n",
              "    }\n",
              "  </style>\n",
              "\n",
              "    <script>\n",
              "      const buttonEl =\n",
              "        document.querySelector('#df-e5062607-bf26-4b92-aa9b-9aa819cdc9f9 button.colab-df-convert');\n",
              "      buttonEl.style.display =\n",
              "        google.colab.kernel.accessAllowed ? 'block' : 'none';\n",
              "\n",
              "      async function convertToInteractive(key) {\n",
              "        const element = document.querySelector('#df-e5062607-bf26-4b92-aa9b-9aa819cdc9f9');\n",
              "        const dataTable =\n",
              "          await google.colab.kernel.invokeFunction('convertToInteractive',\n",
              "                                                    [key], {});\n",
              "        if (!dataTable) return;\n",
              "\n",
              "        const docLinkHtml = 'Like what you see? Visit the ' +\n",
              "          '<a target=\"_blank\" href=https://colab.research.google.com/notebooks/data_table.ipynb>data table notebook</a>'\n",
              "          + ' to learn more about interactive tables.';\n",
              "        element.innerHTML = '';\n",
              "        dataTable['output_type'] = 'display_data';\n",
              "        await google.colab.output.renderOutput(dataTable, element);\n",
              "        const docLink = document.createElement('div');\n",
              "        docLink.innerHTML = docLinkHtml;\n",
              "        element.appendChild(docLink);\n",
              "      }\n",
              "    </script>\n",
              "  </div>\n",
              "\n",
              "\n",
              "<div id=\"df-383ef37f-e8ef-429c-b675-54a3a6608e56\">\n",
              "  <button class=\"colab-df-quickchart\" onclick=\"quickchart('df-383ef37f-e8ef-429c-b675-54a3a6608e56')\"\n",
              "            title=\"Suggest charts\"\n",
              "            style=\"display:none;\">\n",
              "\n",
              "<svg xmlns=\"http://www.w3.org/2000/svg\" height=\"24px\"viewBox=\"0 0 24 24\"\n",
              "     width=\"24px\">\n",
              "    <g>\n",
              "        <path d=\"M19 3H5c-1.1 0-2 .9-2 2v14c0 1.1.9 2 2 2h14c1.1 0 2-.9 2-2V5c0-1.1-.9-2-2-2zM9 17H7v-7h2v7zm4 0h-2V7h2v10zm4 0h-2v-4h2v4z\"/>\n",
              "    </g>\n",
              "</svg>\n",
              "  </button>\n",
              "\n",
              "<style>\n",
              "  .colab-df-quickchart {\n",
              "      --bg-color: #E8F0FE;\n",
              "      --fill-color: #1967D2;\n",
              "      --hover-bg-color: #E2EBFA;\n",
              "      --hover-fill-color: #174EA6;\n",
              "      --disabled-fill-color: #AAA;\n",
              "      --disabled-bg-color: #DDD;\n",
              "  }\n",
              "\n",
              "  [theme=dark] .colab-df-quickchart {\n",
              "      --bg-color: #3B4455;\n",
              "      --fill-color: #D2E3FC;\n",
              "      --hover-bg-color: #434B5C;\n",
              "      --hover-fill-color: #FFFFFF;\n",
              "      --disabled-bg-color: #3B4455;\n",
              "      --disabled-fill-color: #666;\n",
              "  }\n",
              "\n",
              "  .colab-df-quickchart {\n",
              "    background-color: var(--bg-color);\n",
              "    border: none;\n",
              "    border-radius: 50%;\n",
              "    cursor: pointer;\n",
              "    display: none;\n",
              "    fill: var(--fill-color);\n",
              "    height: 32px;\n",
              "    padding: 0;\n",
              "    width: 32px;\n",
              "  }\n",
              "\n",
              "  .colab-df-quickchart:hover {\n",
              "    background-color: var(--hover-bg-color);\n",
              "    box-shadow: 0 1px 2px rgba(60, 64, 67, 0.3), 0 1px 3px 1px rgba(60, 64, 67, 0.15);\n",
              "    fill: var(--button-hover-fill-color);\n",
              "  }\n",
              "\n",
              "  .colab-df-quickchart-complete:disabled,\n",
              "  .colab-df-quickchart-complete:disabled:hover {\n",
              "    background-color: var(--disabled-bg-color);\n",
              "    fill: var(--disabled-fill-color);\n",
              "    box-shadow: none;\n",
              "  }\n",
              "\n",
              "  .colab-df-spinner {\n",
              "    border: 2px solid var(--fill-color);\n",
              "    border-color: transparent;\n",
              "    border-bottom-color: var(--fill-color);\n",
              "    animation:\n",
              "      spin 1s steps(1) infinite;\n",
              "  }\n",
              "\n",
              "  @keyframes spin {\n",
              "    0% {\n",
              "      border-color: transparent;\n",
              "      border-bottom-color: var(--fill-color);\n",
              "      border-left-color: var(--fill-color);\n",
              "    }\n",
              "    20% {\n",
              "      border-color: transparent;\n",
              "      border-left-color: var(--fill-color);\n",
              "      border-top-color: var(--fill-color);\n",
              "    }\n",
              "    30% {\n",
              "      border-color: transparent;\n",
              "      border-left-color: var(--fill-color);\n",
              "      border-top-color: var(--fill-color);\n",
              "      border-right-color: var(--fill-color);\n",
              "    }\n",
              "    40% {\n",
              "      border-color: transparent;\n",
              "      border-right-color: var(--fill-color);\n",
              "      border-top-color: var(--fill-color);\n",
              "    }\n",
              "    60% {\n",
              "      border-color: transparent;\n",
              "      border-right-color: var(--fill-color);\n",
              "    }\n",
              "    80% {\n",
              "      border-color: transparent;\n",
              "      border-right-color: var(--fill-color);\n",
              "      border-bottom-color: var(--fill-color);\n",
              "    }\n",
              "    90% {\n",
              "      border-color: transparent;\n",
              "      border-bottom-color: var(--fill-color);\n",
              "    }\n",
              "  }\n",
              "</style>\n",
              "\n",
              "  <script>\n",
              "    async function quickchart(key) {\n",
              "      const quickchartButtonEl =\n",
              "        document.querySelector('#' + key + ' button');\n",
              "      quickchartButtonEl.disabled = true;  // To prevent multiple clicks.\n",
              "      quickchartButtonEl.classList.add('colab-df-spinner');\n",
              "      try {\n",
              "        const charts = await google.colab.kernel.invokeFunction(\n",
              "            'suggestCharts', [key], {});\n",
              "      } catch (error) {\n",
              "        console.error('Error during call to suggestCharts:', error);\n",
              "      }\n",
              "      quickchartButtonEl.classList.remove('colab-df-spinner');\n",
              "      quickchartButtonEl.classList.add('colab-df-quickchart-complete');\n",
              "    }\n",
              "    (() => {\n",
              "      let quickchartButtonEl =\n",
              "        document.querySelector('#df-383ef37f-e8ef-429c-b675-54a3a6608e56 button');\n",
              "      quickchartButtonEl.style.display =\n",
              "        google.colab.kernel.accessAllowed ? 'block' : 'none';\n",
              "    })();\n",
              "  </script>\n",
              "</div>\n",
              "\n",
              "  <div id=\"id_1873369c-dc6c-45bc-ac98-04e8fde028fe\">\n",
              "    <style>\n",
              "      .colab-df-generate {\n",
              "        background-color: #E8F0FE;\n",
              "        border: none;\n",
              "        border-radius: 50%;\n",
              "        cursor: pointer;\n",
              "        display: none;\n",
              "        fill: #1967D2;\n",
              "        height: 32px;\n",
              "        padding: 0 0 0 0;\n",
              "        width: 32px;\n",
              "      }\n",
              "\n",
              "      .colab-df-generate:hover {\n",
              "        background-color: #E2EBFA;\n",
              "        box-shadow: 0px 1px 2px rgba(60, 64, 67, 0.3), 0px 1px 3px 1px rgba(60, 64, 67, 0.15);\n",
              "        fill: #174EA6;\n",
              "      }\n",
              "\n",
              "      [theme=dark] .colab-df-generate {\n",
              "        background-color: #3B4455;\n",
              "        fill: #D2E3FC;\n",
              "      }\n",
              "\n",
              "      [theme=dark] .colab-df-generate:hover {\n",
              "        background-color: #434B5C;\n",
              "        box-shadow: 0px 1px 3px 1px rgba(0, 0, 0, 0.15);\n",
              "        filter: drop-shadow(0px 1px 2px rgba(0, 0, 0, 0.3));\n",
              "        fill: #FFFFFF;\n",
              "      }\n",
              "    </style>\n",
              "    <button class=\"colab-df-generate\" onclick=\"generateWithVariable('accidentdata')\"\n",
              "            title=\"Generate code using this dataframe.\"\n",
              "            style=\"display:none;\">\n",
              "\n",
              "  <svg xmlns=\"http://www.w3.org/2000/svg\" height=\"24px\"viewBox=\"0 0 24 24\"\n",
              "       width=\"24px\">\n",
              "    <path d=\"M7,19H8.4L18.45,9,17,7.55,7,17.6ZM5,21V16.75L18.45,3.32a2,2,0,0,1,2.83,0l1.4,1.43a1.91,1.91,0,0,1,.58,1.4,1.91,1.91,0,0,1-.58,1.4L9.25,21ZM18.45,9,17,7.55Zm-12,3A5.31,5.31,0,0,0,4.9,8.1,5.31,5.31,0,0,0,1,6.5,5.31,5.31,0,0,0,4.9,4.9,5.31,5.31,0,0,0,6.5,1,5.31,5.31,0,0,0,8.1,4.9,5.31,5.31,0,0,0,12,6.5,5.46,5.46,0,0,0,6.5,12Z\"/>\n",
              "  </svg>\n",
              "    </button>\n",
              "    <script>\n",
              "      (() => {\n",
              "      const buttonEl =\n",
              "        document.querySelector('#id_1873369c-dc6c-45bc-ac98-04e8fde028fe button.colab-df-generate');\n",
              "      buttonEl.style.display =\n",
              "        google.colab.kernel.accessAllowed ? 'block' : 'none';\n",
              "\n",
              "      buttonEl.onclick = () => {\n",
              "        google.colab.notebook.generateWithVariable('accidentdata');\n",
              "      }\n",
              "      })();\n",
              "    </script>\n",
              "  </div>\n",
              "\n",
              "    </div>\n",
              "  </div>\n"
            ],
            "application/vnd.google.colaboratory.intrinsic+json": {
              "type": "dataframe",
              "variable_name": "accidentdata"
            }
          },
          "metadata": {},
          "execution_count": 186
        }
      ]
    },
    {
      "cell_type": "code",
      "source": [
        "accidentdata = accidentdata.drop(['Latitude', 'Longitude'], axis = 1)"
      ],
      "metadata": {
        "id": "RkA5EQc0aFzy"
      },
      "execution_count": null,
      "outputs": []
    },
    {
      "cell_type": "code",
      "source": [
        "# prompt: df to pkl download\n",
        "\n",
        "from google.colab import files\n",
        "\n",
        "# Convert the DataFrame to a pickle object\n",
        "X_Dataset2.to_pickle('X_Dataset2.pkl')\n",
        "\n",
        "# Download the pickle file\n",
        "files.download('X_Dataset2.pkl')\n"
      ],
      "metadata": {
        "colab": {
          "base_uri": "https://localhost:8080/",
          "height": 34
        },
        "id": "vynZQ2vQaxal",
        "outputId": "ce8ca9e4-c9f0-4ae1-f511-8db1cdbe6c61"
      },
      "execution_count": null,
      "outputs": [
        {
          "output_type": "display_data",
          "data": {
            "text/plain": [
              "<IPython.core.display.Javascript object>"
            ],
            "application/javascript": [
              "\n",
              "    async function download(id, filename, size) {\n",
              "      if (!google.colab.kernel.accessAllowed) {\n",
              "        return;\n",
              "      }\n",
              "      const div = document.createElement('div');\n",
              "      const label = document.createElement('label');\n",
              "      label.textContent = `Downloading \"${filename}\": `;\n",
              "      div.appendChild(label);\n",
              "      const progress = document.createElement('progress');\n",
              "      progress.max = size;\n",
              "      div.appendChild(progress);\n",
              "      document.body.appendChild(div);\n",
              "\n",
              "      const buffers = [];\n",
              "      let downloaded = 0;\n",
              "\n",
              "      const channel = await google.colab.kernel.comms.open(id);\n",
              "      // Send a message to notify the kernel that we're ready.\n",
              "      channel.send({})\n",
              "\n",
              "      for await (const message of channel.messages) {\n",
              "        // Send a message to notify the kernel that we're ready.\n",
              "        channel.send({})\n",
              "        if (message.buffers) {\n",
              "          for (const buffer of message.buffers) {\n",
              "            buffers.push(buffer);\n",
              "            downloaded += buffer.byteLength;\n",
              "            progress.value = downloaded;\n",
              "          }\n",
              "        }\n",
              "      }\n",
              "      const blob = new Blob(buffers, {type: 'application/binary'});\n",
              "      const a = document.createElement('a');\n",
              "      a.href = window.URL.createObjectURL(blob);\n",
              "      a.download = filename;\n",
              "      div.appendChild(a);\n",
              "      a.click();\n",
              "      div.remove();\n",
              "    }\n",
              "  "
            ]
          },
          "metadata": {}
        },
        {
          "output_type": "display_data",
          "data": {
            "text/plain": [
              "<IPython.core.display.Javascript object>"
            ],
            "application/javascript": [
              "download(\"download_785a22aa-073c-4db4-9138-137095072733\", \"X_Dataset2.pkl\", 42316680)"
            ]
          },
          "metadata": {}
        }
      ]
    },
    {
      "cell_type": "code",
      "source": [
        "accidentdata = accidentdata.drop(['age'], axis = 1)"
      ],
      "metadata": {
        "id": "aLEAVngBaNlo"
      },
      "execution_count": null,
      "outputs": []
    },
    {
      "cell_type": "code",
      "source": [
        "X2"
      ],
      "metadata": {
        "id": "qmHnveX1XLNy"
      },
      "execution_count": null,
      "outputs": []
    },
    {
      "cell_type": "code",
      "source": [
        "X.Accident_Location.value_counts()"
      ],
      "metadata": {
        "colab": {
          "base_uri": "https://localhost:8080/"
        },
        "id": "ShUgBIouQ2fv",
        "outputId": "9e490e51-9766-4b8d-ca59-131baf48a4e4"
      },
      "execution_count": null,
      "outputs": [
        {
          "output_type": "execute_result",
          "data": {
            "text/plain": [
              "Accident_Location\n",
              "Rural Areas            73158\n",
              "City/Town              34930\n",
              "Villages settlement     6027\n",
              "Name: count, dtype: int64"
            ]
          },
          "metadata": {},
          "execution_count": 18
        }
      ]
    },
    {
      "cell_type": "code",
      "source": [
        "X.columns"
      ],
      "metadata": {
        "colab": {
          "base_uri": "https://localhost:8080/"
        },
        "id": "7g0shPicQoFH",
        "outputId": "5e5d449b-060f-4e85-a9d1-d02a32caffd9"
      },
      "execution_count": null,
      "outputs": [
        {
          "output_type": "execute_result",
          "data": {
            "text/plain": [
              "Index(['DISTRICTNAME', 'UNITNAME', 'Year', 'Accident_Spot',\n",
              "       'Accident_Location', 'Accident_SubLocation', 'Hit_Run',\n",
              "       'Collision_Type', 'Junction_Control', 'Road_Character', 'Road_Type',\n",
              "       'Surface_Type', 'Surface_Condition', 'Road_Condition', 'Weather',\n",
              "       'Accident_Road', 'Latitude', 'Longitude', 'Month', 'age', 'Sex',\n",
              "       'PersonType', 'Vehicle_Involvement', 'severity_score'],\n",
              "      dtype='object')"
            ]
          },
          "metadata": {},
          "execution_count": 17
        }
      ]
    },
    {
      "cell_type": "code",
      "source": [
        "accidentdata.Road_Character.value_counts()"
      ],
      "metadata": {
        "colab": {
          "base_uri": "https://localhost:8080/"
        },
        "id": "R6BiWIMamQGo",
        "outputId": "4cbf4cc9-216d-459f-c8b7-f9b6d5a383bc"
      },
      "execution_count": null,
      "outputs": [
        {
          "output_type": "execute_result",
          "data": {
            "text/plain": [
              "Road_Character\n",
              "Straight and flat    277190\n",
              "Curve                160756\n",
              "Crest of hill         19532\n",
              "Incline               18937\n",
              "Curve and Incline      8856\n",
              "Dip or trough          2563\n",
              "Name: count, dtype: int64"
            ]
          },
          "metadata": {},
          "execution_count": 196
        }
      ]
    },
    {
      "cell_type": "code",
      "source": [
        "accidentdata.loc[accidentdata['Road_Character'] == 'Hump', 'Road_Character'] = 'Crest of hill'\n"
      ],
      "metadata": {
        "id": "HfhSJWN1kntk"
      },
      "execution_count": null,
      "outputs": []
    },
    {
      "cell_type": "code",
      "source": [
        "# prompt: print seperate value counts for all columns of X\n",
        "\n",
        "for col in accidentdata.columns:\n",
        "  print(accidentdata[col].value_counts())\n",
        "  print()\n"
      ],
      "metadata": {
        "id": "_zmnAFAXWBqh"
      },
      "execution_count": null,
      "outputs": []
    },
    {
      "cell_type": "code",
      "source": [
        "import numpy as np\n",
        "import pandas as pd\n",
        "\n",
        "# Loop through each column in the DataFrame\n",
        "for column in accidentdata.columns:\n",
        "    # Check if NaN exists in the column\n",
        "    if accidentdata[column].isna().any():\n",
        "        # Get the count of NaN occurrences\n",
        "        na_count = accidentdata[column].isna().sum()\n",
        "\n",
        "        # Calculate the total count of other values (excluding NaN)\n",
        "        total_count = accidentdata[column].notna().sum()\n",
        "\n",
        "        # Calculate the distribution ratio for other values\n",
        "        distribution_ratio = accidentdata[column].value_counts(dropna=True) / total_count\n",
        "\n",
        "        # Update NaN values with other options based on their count\n",
        "        other_options = distribution_ratio.index\n",
        "        weights = distribution_ratio.values\n",
        "        new_values = pd.Series(np.random.choice(other_options, size=na_count, p=weights), index=accidentdata[accidentdata[column].isna()].index)\n",
        "        accidentdata.loc[new_values.index, column] = new_values\n"
      ],
      "metadata": {
        "id": "UxodE-NCvguq"
      },
      "execution_count": null,
      "outputs": []
    },
    {
      "cell_type": "code",
      "source": [
        "import pandas as pd\n",
        "# Load the pickle object\n",
        "accidentdata = pd.read_pickle('accidentdata.pkl')\n"
      ],
      "metadata": {
        "id": "RFHk3K3AaC1k"
      },
      "execution_count": null,
      "outputs": []
    },
    {
      "cell_type": "code",
      "source": [
        "import re\n",
        "\n",
        "for unit in accidentdata['UNITNAME'].unique():\n",
        "    unit2 = re.sub(r'\\W+', '_', unit)\n",
        "    exec(f\"{unit2} = accidentdata[accidentdata['UNITNAME'] == '{unit}'].copy()\")\n",
        "    exec(f\"{unit2} = {unit2}.drop(['DISTRICTNAME','UNITNAME', 'Severity', 'Road_Character', 'Year'], axis=1)\")"
      ],
      "metadata": {
        "id": "emdfB76euAoR"
      },
      "execution_count": null,
      "outputs": []
    },
    {
      "cell_type": "code",
      "source": [
        "for district in accidentdata['DISTRICTNAME'].unique():\n",
        "    district2 = re.sub(r'\\W+', '_', district)\n",
        "    exec(f\"{district2} = accidentdata[accidentdata['DISTRICTNAME'] == '{district}'].copy()\")\n",
        "    exec(f\"{district2} = {district2}.drop(['DISTRICTNAME','UNITNAME', 'Severity', 'Road_Character', 'Year'], axis=1)\")"
      ],
      "metadata": {
        "id": "pkIvFiZC3Vuw"
      },
      "execution_count": null,
      "outputs": []
    },
    {
      "cell_type": "code",
      "source": [
        "from sklearn.preprocessing import StandardScaler, LabelEncoder\n",
        "from sklearn.decomposition import PCA\n",
        "from sklearn.cluster import KMeans\n",
        "import numpy as np\n",
        "from sklearn.metrics import silhouette_score\n",
        "\n",
        "def get_clusters(unit_or_dist_name):\n",
        "\n",
        "  le_Accident_Spot = LabelEncoder()\n",
        "  unit_or_dist_name['Accident_Spot'] = le_Accident_Spot.fit_transform(unit_or_dist_name['Accident_Spot'])\n",
        "\n",
        "  le_Accident_SubLocation = LabelEncoder()\n",
        "  unit_or_dist_name['Accident_SubLocation'] = le_Accident_SubLocation.fit_transform(unit_or_dist_name['Accident_SubLocation'])\n",
        "\n",
        "  le_Road_Type = LabelEncoder()\n",
        "  unit_or_dist_name['Road_Type'] = le_Road_Type.fit_transform(unit_or_dist_name['Road_Type'])\n",
        "\n",
        "  scaler = StandardScaler()\n",
        "  X_scaled = scaler.fit_transform(unit_or_dist_name)\n",
        "\n",
        "  pca = PCA(n_components=2)\n",
        "  pca_scaled = pca.fit_transform(X_scaled)\n",
        "\n",
        "  k_max = 0\n",
        "  silhouette_max = 0\n",
        "  for k in range(2, 8):\n",
        "    kmeans = KMeans(n_clusters=k, random_state=0, n_init=\"auto\").fit(unit_or_dist_name)\n",
        "    clusters = kmeans.labels_\n",
        "    silhouette_avg = silhouette_score(unit_or_dist_name, clusters)\n",
        "    if(silhouette_avg > silhouette_max):\n",
        "      silhouette_max = silhouette_avg\n",
        "      k_max = k\n",
        "\n",
        "  kmeans = KMeans(n_clusters=4, random_state=0, n_init=\"auto\").fit(unit_or_dist_name)\n",
        "  clusters = kmeans.labels_\n",
        "\n",
        "  pca_transformed_data = pca.transform(X_scaled)\n",
        "  cluster_labels = clusters\n",
        "\n",
        "  cluster_centroids_pca = []\n",
        "  cluster_centroids_original = []\n",
        "  cluster_centroids_unscaled = []\n",
        "\n",
        "  for label in np.unique(cluster_labels):\n",
        "      cluster_points = pca_transformed_data[cluster_labels == label]\n",
        "      cluster_centroid = np.mean(cluster_points, axis=0)\n",
        "      cluster_centroids_pca.append(cluster_centroid)\n",
        "\n",
        "      cluster_centroid_original = pca.inverse_transform(cluster_centroid.reshape(1, -1))\n",
        "      cluster_centroids_original.append(cluster_centroid_original[0])\n",
        "\n",
        "      cluster_centroid_unscaled = scaler.inverse_transform(cluster_centroid_original.reshape(1, -1))\n",
        "      cluster_centroids_unscaled.append(cluster_centroid_unscaled[0])\n",
        "\n",
        "      encoders = [le_Accident_Spot, le_Accident_SubLocation, le_Road_Type]\n",
        "\n",
        "      decoded_data = []\n",
        "      for encoded_values in cluster_centroids_unscaled:\n",
        "          decoded_values = []\n",
        "          decoded_values.append(int(np.round(encoded_values[0])))\n",
        "          for i, encoder in enumerate(encoders):\n",
        "                val = int(np.floor(encoded_values[i+1]))\n",
        "                decoded = encoder.inverse_transform([val])\n",
        "                decoded_values.append(decoded[0])\n",
        "          decoded_data.append(decoded_values)\n",
        "  return decoded_data, cluster_centroids_unscaled, encoders, scaler"
      ],
      "metadata": {
        "id": "p2WvpISs3YD2"
      },
      "execution_count": null,
      "outputs": []
    },
    {
      "cell_type": "code",
      "source": [
        "decoded_data, cluster_centroids_unscaled, encoders, scaler = get_clusters(Bagalkot)\n",
        "decoded_data2 = decoded_data\n",
        "print(decoded_data)\n",
        "print(decoded_data[0][0])"
      ],
      "metadata": {
        "colab": {
          "base_uri": "https://localhost:8080/"
        },
        "id": "8nRcr3Flcuv8",
        "outputId": "1e8aab56-7a27-4f3f-949e-2c4d28c93dd3"
      },
      "execution_count": null,
      "outputs": [
        {
          "output_type": "stream",
          "name": "stdout",
          "text": [
            "[[3, 'Narrow road', 'Near Hospital', 'Forest Road'], [8, 'Railway crossing', 'Near a recreation place/cinema', 'Feeder Road'], [8, 'Offset', 'Near a religious place', 'One way'], [5, 'More than four arms', 'Near a factory industrial area', 'One way']]\n",
            "3\n"
          ]
        }
      ]
    },
    {
      "cell_type": "code",
      "source": [
        "new_data = pd.DataFrame({'Month': [8],\n",
        "                         'Accident_Spot': ['Narrow road'],\n",
        "                         'Accident_SubLocation': ['Near Hospital'],\n",
        "                         'Road_Type': ['Forest Road']})\n",
        "import math\n",
        "def eucledian(a, b):\n",
        "  return math.sqrt(sum((x-y)**2 for x, y in zip(a, b)))\n",
        "\n",
        "def fit_in_cluster(unit_or_dist_name, new_data):\n",
        "  decoded_data, cluster_centroids_unscaled, encoders, scaler = get_clusters(unit_or_dist_name)\n",
        "  min_eucledian = np.inf\n",
        "  indx = -1\n",
        "  i = 0\n",
        "  new_data['Accident_Spot'] = encoders[0].fit_transform(new_data['Accident_Spot'])\n",
        "  new_data['Accident_SubLocation'] = encoders[1].fit_transform(new_data['Accident_SubLocation'])\n",
        "  new_data['Road_Type'] = encoders[2].fit_transform(new_data['Road_Type'])\n",
        "\n",
        "  for cluster in cluster_centroids_unscaled:\n",
        "    print(cluster)\n",
        "    euc_dist = eucledian(new_data.iloc[0].to_numpy(), cluster)\n",
        "    min_eucledian = max(euc_dist, min_eucledian)\n",
        "    if(min_eucledian == euc_dist):\n",
        "      indx = i\n",
        "    i+=1\n",
        "  return decoded_data2[indx]"
      ],
      "metadata": {
        "id": "TGTx3Em45HpV"
      },
      "execution_count": null,
      "outputs": []
    },
    {
      "cell_type": "code",
      "source": [
        "ans = fit_in_cluster(Bagalkot, new_data)"
      ],
      "metadata": {
        "colab": {
          "base_uri": "https://localhost:8080/"
        },
        "id": "eLgpv1maB89a",
        "outputId": "115d3a85-71da-4d43-983d-674be54c430d"
      },
      "execution_count": null,
      "outputs": [
        {
          "output_type": "stream",
          "name": "stdout",
          "text": [
            "[3.3763403  9.28093724 5.39497023 4.6318403 ]\n",
            "[ 7.95281841 12.92728982  9.17231259  3.45949951]\n",
            "[ 7.95920028 10.78877312 10.32852541  8.61164625]\n",
            "[5.3449803  8.84787731 8.09454786 8.93989536]\n"
          ]
        }
      ]
    },
    {
      "cell_type": "code",
      "source": [
        "ans"
      ],
      "metadata": {
        "id": "LOUMKa9PQNH2"
      },
      "execution_count": null,
      "outputs": []
    }
  ]
}